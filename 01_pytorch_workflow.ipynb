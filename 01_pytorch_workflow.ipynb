{
 "cells": [
  {
   "cell_type": "markdown",
   "id": "ce0a980f-dd1b-4226-be97-073f53e13e4d",
   "metadata": {},
   "source": [
    "## Building, training and testing a simple Linear regression model using pytorch"
   ]
  },
  {
   "cell_type": "markdown",
   "id": "416670ce-cb61-421c-9d54-8791c35bf1ba",
   "metadata": {
    "jp-MarkdownHeadingCollapsed": true
   },
   "source": [
    "### installing dependencies"
   ]
  },
  {
   "cell_type": "code",
   "execution_count": 2,
   "id": "707525d1-c8b1-40e9-a546-560fc92cb71f",
   "metadata": {},
   "outputs": [],
   "source": [
    "import torch\n",
    "import torch.nn as nn"
   ]
  },
  {
   "cell_type": "markdown",
   "id": "6dac0cd8-3c13-44d4-83b5-4f0499d938b1",
   "metadata": {},
   "source": [
    "### Generating a mock dataset"
   ]
  },
  {
   "cell_type": "code",
   "execution_count": 3,
   "id": "f6fdf242-f648-4b8d-824d-46406938bdea",
   "metadata": {},
   "outputs": [
    {
     "data": {
      "text/plain": [
       "torch.Size([100])"
      ]
     },
     "execution_count": 3,
     "metadata": {},
     "output_type": "execute_result"
    }
   ],
   "source": [
    "weights = 0.7\n",
    "bias = 0.3\n",
    "\n",
    "X = torch.arange(0,20,0.2)\n",
    "X.shape"
   ]
  },
  {
   "cell_type": "code",
   "execution_count": 4,
   "id": "19de066e-afd2-4c82-a5c4-7e14e64f1250",
   "metadata": {},
   "outputs": [
    {
     "data": {
      "text/plain": [
       "torch.Size([100])"
      ]
     },
     "execution_count": 4,
     "metadata": {},
     "output_type": "execute_result"
    }
   ],
   "source": [
    "y = X * weights + bias\n",
    "y.shape"
   ]
  },
  {
   "cell_type": "code",
   "execution_count": 259,
   "id": "432ec64c-1408-45c1-ac8a-520749a3dea3",
   "metadata": {},
   "outputs": [
    {
     "data": {
      "text/plain": [
       "(torch.Size([70]), torch.Size([30]), torch.Size([70]), torch.Size([30]))"
      ]
     },
     "execution_count": 259,
     "metadata": {},
     "output_type": "execute_result"
    }
   ],
   "source": [
    "train_split = int(0.7 * len(X))\n",
    "X_train, y_train = X[:train_split], y[:train_split]\n",
    "X_test, y_test = X[train_split:], y[train_split:]\n",
    "X_train.shape, X_test.shape, y_train.shape, y_test.shape"
   ]
  },
  {
   "cell_type": "markdown",
   "id": "57221b80-0f43-4deb-bddc-e4f37f976f1f",
   "metadata": {},
   "source": [
    "### Building model using pytorch"
   ]
  },
  {
   "cell_type": "code",
   "execution_count": 260,
   "id": "bae40886-c495-4c1c-8b22-40c5b015d253",
   "metadata": {},
   "outputs": [],
   "source": [
    "class LinearRegression(nn.Module):\n",
    "    def __init__(self):\n",
    "        super().__init__()\n",
    "        self.weights = nn.Parameter(torch.randn(1,requires_grad=True,dtype=torch.float))\n",
    "        self.bias = nn.Parameter(torch.randn(1,requires_grad=True,dtype=torch.float))\n",
    "    def forward(self,x:torch.Tensor)-> torch.Tensor:\n",
    "        return self.weights * x + self.bias"
   ]
  },
  {
   "cell_type": "code",
   "execution_count": 261,
   "id": "11e50ca7-0f10-43dc-b7ac-3cb4adf73d89",
   "metadata": {},
   "outputs": [],
   "source": [
    "torch.manual_seed(42)\n",
    "model = LinearRegression()"
   ]
  },
  {
   "cell_type": "code",
   "execution_count": 262,
   "id": "d87df749-113a-46ee-9977-37e335c0c54d",
   "metadata": {},
   "outputs": [
    {
     "data": {
      "text/plain": [
       "OrderedDict([('weights', tensor([0.3367])), ('bias', tensor([0.1288]))])"
      ]
     },
     "execution_count": 262,
     "metadata": {},
     "output_type": "execute_result"
    }
   ],
   "source": [
    "model.state_dict()"
   ]
  },
  {
   "cell_type": "code",
   "execution_count": 263,
   "id": "d538dcd1-b2ab-4016-baaa-3a44d7aaa468",
   "metadata": {},
   "outputs": [
    {
     "data": {
      "text/plain": [
       "[Parameter containing:\n",
       " tensor([0.3367], requires_grad=True),\n",
       " Parameter containing:\n",
       " tensor([0.1288], requires_grad=True)]"
      ]
     },
     "execution_count": 263,
     "metadata": {},
     "output_type": "execute_result"
    }
   ],
   "source": [
    "list(model.parameters())"
   ]
  },
  {
   "cell_type": "markdown",
   "id": "1e57e2ad-ccf3-4850-9835-413cd43652d3",
   "metadata": {
    "jp-MarkdownHeadingCollapsed": true
   },
   "source": [
    "#### setting loss function and optimizer"
   ]
  },
  {
   "cell_type": "code",
   "execution_count": 264,
   "id": "b400de7c-cf80-49e1-a5d1-7d4047d70927",
   "metadata": {},
   "outputs": [],
   "source": [
    "loss_fn = nn.L1Loss()\n",
    "optimizer = torch.optim.SGD(params=model.parameters(),lr=0.00001)"
   ]
  },
  {
   "cell_type": "code",
   "execution_count": 265,
   "id": "771ba5e5-95cd-4814-bb74-e932645fee7f",
   "metadata": {},
   "outputs": [
    {
     "data": {
      "text/plain": [
       "OrderedDict([('weights', tensor([0.3367])), ('bias', tensor([0.1288]))])"
      ]
     },
     "execution_count": 265,
     "metadata": {},
     "output_type": "execute_result"
    }
   ],
   "source": [
    "model.state_dict()"
   ]
  },
  {
   "cell_type": "markdown",
   "id": "ab264681-71cf-496f-a59b-6dee1ffe84b7",
   "metadata": {},
   "source": [
    "### Training the model"
   ]
  },
  {
   "cell_type": "code",
   "execution_count": 311,
   "id": "d2f06dc7-6867-49c7-b791-7a8bb0633c59",
   "metadata": {},
   "outputs": [
    {
     "name": "stdout",
     "output_type": "stream",
     "text": [
      "loss:0.0004451313288882375\n"
     ]
    },
    {
     "data": {
      "text/plain": [
       "OrderedDict([('weights', tensor([0.7000])), ('bias', tensor([0.3000]))])"
      ]
     },
     "execution_count": 311,
     "metadata": {},
     "output_type": "execute_result"
    }
   ],
   "source": [
    "epochs = 10000\n",
    "for i in range(epochs):\n",
    "    model.train()\n",
    "    y_pred = model(X_train)\n",
    "    loss = loss_fn(y_pred,y_train)\n",
    "    optimizer.zero_grad()\n",
    "    loss.backward()\n",
    "    optimizer.step()\n",
    "    model.eval()\n",
    "print(f\"loss:{loss}\")\n",
    "model.state_dict()"
   ]
  },
  {
   "cell_type": "markdown",
   "id": "4f3215de-601d-4e91-ad73-640932d00d97",
   "metadata": {},
   "source": [
    "### Testing the model"
   ]
  },
  {
   "cell_type": "code",
   "execution_count": 314,
   "id": "304e2b41-5ab6-4feb-8de0-70790a121132",
   "metadata": {},
   "outputs": [
    {
     "name": "stdout",
     "output_type": "stream",
     "text": [
      "test loss:8.710225665709004e-05\n"
     ]
    }
   ],
   "source": [
    "with torch.inference_mode():\n",
    "    y_pred_test = model(X_test)\n",
    "    j_test = loss_fn(y_test,y_pred_test)\n",
    "    print(f\"test loss:{j_test}\")"
   ]
  },
  {
   "cell_type": "code",
   "execution_count": 315,
   "id": "24760a72-c6c2-4e41-a781-2311ffe988e2",
   "metadata": {},
   "outputs": [
    {
     "data": {
      "text/plain": [
       "(tensor([10.0999, 10.2399, 10.3799, 10.5199, 10.6599, 10.7999, 10.9399, 11.0799,\n",
       "         11.2199, 11.3599, 11.4999, 11.6399, 11.7799, 11.9199, 12.0599, 12.1999,\n",
       "         12.3399, 12.4799, 12.6199, 12.7599, 12.8999, 13.0399, 13.1799, 13.3199,\n",
       "         13.4599, 13.5999, 13.7399, 13.8799, 14.0199, 14.1599]),\n",
       " tensor([10.1000, 10.2400, 10.3800, 10.5200, 10.6600, 10.8000, 10.9400, 11.0800,\n",
       "         11.2200, 11.3600, 11.5000, 11.6400, 11.7800, 11.9200, 12.0600, 12.2000,\n",
       "         12.3400, 12.4800, 12.6200, 12.7600, 12.9000, 13.0400, 13.1800, 13.3200,\n",
       "         13.4600, 13.6000, 13.7400, 13.8800, 14.0200, 14.1600]))"
      ]
     },
     "execution_count": 315,
     "metadata": {},
     "output_type": "execute_result"
    }
   ],
   "source": [
    "y_pred_test,y_test"
   ]
  },
  {
   "cell_type": "markdown",
   "id": "96611387-aa94-4d4d-8173-c838ab7e3eb6",
   "metadata": {},
   "source": [
    "### Saving the model"
   ]
  },
  {
   "cell_type": "code",
   "execution_count": 318,
   "id": "7ae18cf0-a3e4-4788-881c-90293ba94c1c",
   "metadata": {},
   "outputs": [],
   "source": [
    "from pathlib import Path\n",
    "MODEL_DIR = Path(\"model\")\n",
    "MODEL_DIR.mkdir(parents=True,exist_ok=True)\n",
    "\n",
    "MODEL_NAME = \"pytorch_lr_model.pth\"\n",
    "MODEL_PATH = MODEL_DIR / MODEL_NAME\n",
    "\n",
    "torch.save(obj=model.state_dict(),\n",
    "           f=MODEL_PATH)"
   ]
  },
  {
   "cell_type": "code",
   "execution_count": 321,
   "id": "f3612c6d-cab1-4aa1-a80f-f1263657562d",
   "metadata": {},
   "outputs": [
    {
     "name": "stdout",
     "output_type": "stream",
     "text": [
      "pytorch_lr_model.pth\n"
     ]
    }
   ],
   "source": [
    "!ls model"
   ]
  },
  {
   "cell_type": "markdown",
   "id": "84a445dc-9d5b-4ca7-bff3-43bca2ee9619",
   "metadata": {},
   "source": [
    "### loading saved model"
   ]
  },
  {
   "cell_type": "code",
   "execution_count": 322,
   "id": "7cdd62aa-e811-4027-9559-789b6faea2dc",
   "metadata": {},
   "outputs": [
    {
     "data": {
      "text/plain": [
       "OrderedDict([('weights', tensor([0.2345])), ('bias', tensor([0.2303]))])"
      ]
     },
     "execution_count": 322,
     "metadata": {},
     "output_type": "execute_result"
    }
   ],
   "source": [
    "l_model = LinearRegression()\n",
    "l_model.state_dict()"
   ]
  },
  {
   "cell_type": "code",
   "execution_count": 323,
   "id": "0d9ecffa-67a1-4ddd-9f69-7add0b0fb1fc",
   "metadata": {},
   "outputs": [
    {
     "data": {
      "text/plain": [
       "<All keys matched successfully>"
      ]
     },
     "execution_count": 323,
     "metadata": {},
     "output_type": "execute_result"
    }
   ],
   "source": [
    "l_model.load_state_dict(torch.load(MODEL_PATH))"
   ]
  },
  {
   "cell_type": "code",
   "execution_count": 324,
   "id": "b1844d3d-ce83-4e9c-a642-e7dd3a548d59",
   "metadata": {},
   "outputs": [
    {
     "data": {
      "text/plain": [
       "OrderedDict([('weights', tensor([0.7000])), ('bias', tensor([0.3000]))])"
      ]
     },
     "execution_count": 324,
     "metadata": {},
     "output_type": "execute_result"
    }
   ],
   "source": [
    "l_model.state_dict()"
   ]
  },
  {
   "cell_type": "markdown",
   "id": "86d63e5b-9c4a-4226-93a3-0c560bc01158",
   "metadata": {},
   "source": [
    "## Putting it all togather"
   ]
  },
  {
   "cell_type": "code",
   "execution_count": 325,
   "id": "252c645e-c588-4c7a-93bf-2e9f2c6fc137",
   "metadata": {},
   "outputs": [],
   "source": [
    "import torch\n",
    "from torch import nn"
   ]
  },
  {
   "cell_type": "markdown",
   "id": "95243483-586e-4f94-82c3-ef31b3b6a3f8",
   "metadata": {},
   "source": [
    "### 1.Data"
   ]
  },
  {
   "cell_type": "code",
   "execution_count": 378,
   "id": "ef1c7608-7679-4981-b93f-570c3f0283be",
   "metadata": {},
   "outputs": [
    {
     "data": {
      "text/plain": [
       "(torch.Size([70, 1]),\n",
       " torch.Size([30, 1]),\n",
       " torch.Size([70, 1]),\n",
       " torch.Size([30, 1]))"
      ]
     },
     "execution_count": 378,
     "metadata": {},
     "output_type": "execute_result"
    }
   ],
   "source": [
    "X = torch.arange(0,20,0.2).unsqueeze(1)\n",
    "y = 0.7*X+0.3\n",
    "train_split = int(0.7 * len(X))\n",
    "X_train, y_train = X[:train_split], y[:train_split]\n",
    "X_test, y_test = X[train_split:], y[train_split:]\n",
    "X_train.shape, X_test.shape, y_train.shape, y_test.shape"
   ]
  },
  {
   "cell_type": "markdown",
   "id": "74e51168-9829-4a0b-9cf6-4bfa4c493fd9",
   "metadata": {},
   "source": [
    "### 2.Model"
   ]
  },
  {
   "cell_type": "code",
   "execution_count": 379,
   "id": "40c51932-5c88-4dad-8057-3aa06c7889d3",
   "metadata": {},
   "outputs": [
    {
     "data": {
      "text/plain": [
       "OrderedDict([('linear_layer.weight', tensor([[0.7645]])),\n",
       "             ('linear_layer.bias', tensor([0.8300]))])"
      ]
     },
     "execution_count": 379,
     "metadata": {},
     "output_type": "execute_result"
    }
   ],
   "source": [
    "class LinearRegressionV2(nn.Module):\n",
    "    def __init__(self):\n",
    "        super().__init__()\n",
    "        self.linear_layer = nn.Linear(in_features=1,\n",
    "                                     out_features=1)\n",
    "    def forward(self, x:torch.Tensor) -> torch.Tensor:\n",
    "        return self.linear_layer(x)\n",
    "\n",
    "torch.manual_seed(42)\n",
    "model_v2 = LinearRegressionV2()\n",
    "model_v2.state_dict()"
   ]
  },
  {
   "cell_type": "code",
   "execution_count": 380,
   "id": "221c28c7-cf16-44a2-bcff-eadf5b22438e",
   "metadata": {},
   "outputs": [
    {
     "data": {
      "text/plain": [
       "'cpu'"
      ]
     },
     "execution_count": 380,
     "metadata": {},
     "output_type": "execute_result"
    }
   ],
   "source": [
    "device = \"cuda\" if torch.cuda.is_available() else \"cpu\"\n",
    "device"
   ]
  },
  {
   "cell_type": "code",
   "execution_count": 381,
   "id": "94252128-41e1-4936-8422-9d6212375e6d",
   "metadata": {},
   "outputs": [
    {
     "data": {
      "text/plain": [
       "device(type='cpu')"
      ]
     },
     "execution_count": 381,
     "metadata": {},
     "output_type": "execute_result"
    }
   ],
   "source": [
    "model_v2.to(device)\n",
    "next(model_v2.parameters()).device"
   ]
  },
  {
   "cell_type": "markdown",
   "id": "ed3ab5b9-f71a-4d20-9ca9-39b87d403b86",
   "metadata": {},
   "source": [
    "### 3.Training and testing"
   ]
  },
  {
   "cell_type": "code",
   "execution_count": 421,
   "id": "ea09436d-4a4f-4d23-a633-e247cdc2fb6a",
   "metadata": {},
   "outputs": [],
   "source": [
    "loss_fn = nn.L1Loss()\n",
    "optimizer = torch.optim.SGD(params=model_v2.parameters(),\n",
    "                            lr=0.001)"
   ]
  },
  {
   "cell_type": "code",
   "execution_count": 422,
   "id": "9a9f91fa-3e3c-47d3-a28b-1bac97123c75",
   "metadata": {},
   "outputs": [],
   "source": [
    "X_train,y_train,X_test,y_test = X_train.to(device), y_train.to(device), X_test.to(device), y_test.to(device)"
   ]
  },
  {
   "cell_type": "code",
   "execution_count": 430,
   "id": "b7289ca2-e60b-4f0a-b247-814b393d3967",
   "metadata": {},
   "outputs": [
    {
     "name": "stdout",
     "output_type": "stream",
     "text": [
      "epoch: 0| train_loss: 0.0001306584890699014| test_loss: 0.11743389815092087\n",
      "epoch: 10| train_loss: 0.0001306584890699014| test_loss: 0.11743389815092087\n",
      "epoch: 20| train_loss: 0.0001306584890699014| test_loss: 0.11743389815092087\n",
      "epoch: 30| train_loss: 0.0001306584890699014| test_loss: 0.11743389815092087\n",
      "epoch: 40| train_loss: 0.0001306584890699014| test_loss: 0.11743389815092087\n",
      "epoch: 50| train_loss: 0.0001306584890699014| test_loss: 0.11743389815092087\n",
      "epoch: 60| train_loss: 0.0001306584890699014| test_loss: 0.11743389815092087\n",
      "epoch: 70| train_loss: 0.0001306584890699014| test_loss: 0.11743389815092087\n",
      "epoch: 80| train_loss: 0.0001306584890699014| test_loss: 0.11743389815092087\n",
      "epoch: 90| train_loss: 0.0001306584890699014| test_loss: 0.11743389815092087\n",
      "epoch: 100| train_loss: 0.0001306584890699014| test_loss: 0.11743389815092087\n",
      "epoch: 110| train_loss: 0.0001306584890699014| test_loss: 0.11743389815092087\n",
      "epoch: 120| train_loss: 0.0001306584890699014| test_loss: 0.11743389815092087\n",
      "epoch: 130| train_loss: 0.0001306584890699014| test_loss: 0.11743389815092087\n",
      "epoch: 140| train_loss: 0.0001306584890699014| test_loss: 0.11743389815092087\n",
      "epoch: 150| train_loss: 0.0001306584890699014| test_loss: 0.11743389815092087\n",
      "epoch: 160| train_loss: 0.0001306584890699014| test_loss: 0.11743389815092087\n",
      "epoch: 170| train_loss: 0.0001306584890699014| test_loss: 0.11743389815092087\n",
      "epoch: 180| train_loss: 0.0001306584890699014| test_loss: 0.11743389815092087\n",
      "epoch: 190| train_loss: 0.0001306584890699014| test_loss: 0.11743389815092087\n"
     ]
    }
   ],
   "source": [
    "torch.manual_seed(42)\n",
    "epochs = 200\n",
    "for epoch in range(epochs):\n",
    "    model_v2.train()\n",
    "    y_pred = model_v2(X_train)\n",
    "    loss = loss_fn(y_train, y_pred)\n",
    "    optimizer.zero_grad()\n",
    "    loss.backward()\n",
    "    optimizer.step()\n",
    "\n",
    "    model_v2.eval()\n",
    "    with torch.inference_mode():\n",
    "        test_pred = model_v2(X_test)\n",
    "        test_loss = loss_fn(y_test, test_pred)\n",
    "\n",
    "    if epoch % 10 == 0:\n",
    "        print(f\"epoch: {epoch}| train_loss: {loss}| test_loss: {test_loss}\")"
   ]
  },
  {
   "cell_type": "code",
   "execution_count": 426,
   "id": "97bf76f2-b733-49c4-915b-dc9aab43931b",
   "metadata": {},
   "outputs": [
    {
     "data": {
      "text/plain": [
       "OrderedDict([('linear_layer.weight', tensor([[0.7000]])),\n",
       "             ('linear_layer.bias', tensor([0.3001]))])"
      ]
     },
     "execution_count": 426,
     "metadata": {},
     "output_type": "execute_result"
    }
   ],
   "source": [
    "model_v2.state_dict()"
   ]
  },
  {
   "cell_type": "markdown",
   "id": "57855cdc-5297-4b98-befb-72c11133f7e3",
   "metadata": {},
   "source": [
    "### 4.saving the model"
   ]
  },
  {
   "cell_type": "code",
   "execution_count": 431,
   "id": "58befc89-b27b-4782-a88e-09cf352d2e13",
   "metadata": {},
   "outputs": [],
   "source": [
    "from pathlib import Path\n",
    "MODEL_DIR = Path(\"model\")\n",
    "MODEL_DIR.mkdir(parents=True,exist_ok=True)\n",
    "\n",
    "MODEL_NAME = \"pytorch_lr_model_2.pth\"\n",
    "MODEL_PATH = MODEL_DIR / MODEL_NAME\n",
    "\n",
    "torch.save(obj=model.state_dict(),\n",
    "           f=MODEL_PATH)"
   ]
  },
  {
   "cell_type": "code",
   "execution_count": null,
   "id": "0f3ff1f7-994c-4ae3-9775-52977f6cceae",
   "metadata": {},
   "outputs": [],
   "source": []
  }
 ],
 "metadata": {
  "kernelspec": {
   "display_name": "Python 3 (ipykernel)",
   "language": "python",
   "name": "python3"
  },
  "language_info": {
   "codemirror_mode": {
    "name": "ipython",
    "version": 3
   },
   "file_extension": ".py",
   "mimetype": "text/x-python",
   "name": "python",
   "nbconvert_exporter": "python",
   "pygments_lexer": "ipython3",
   "version": "3.10.12"
  }
 },
 "nbformat": 4,
 "nbformat_minor": 5
}
