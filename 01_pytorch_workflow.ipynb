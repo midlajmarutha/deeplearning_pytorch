{
 "cells": [
  {
   "cell_type": "code",
   "execution_count": 2,
   "id": "707525d1-c8b1-40e9-a546-560fc92cb71f",
   "metadata": {},
   "outputs": [],
   "source": [
    "import torch\n",
    "import torch.nn as nn"
   ]
  },
  {
   "cell_type": "code",
   "execution_count": 3,
   "id": "f6fdf242-f648-4b8d-824d-46406938bdea",
   "metadata": {},
   "outputs": [
    {
     "data": {
      "text/plain": [
       "torch.Size([100])"
      ]
     },
     "execution_count": 3,
     "metadata": {},
     "output_type": "execute_result"
    }
   ],
   "source": [
    "weights = 0.7\n",
    "bias = 0.3\n",
    "\n",
    "X = torch.arange(0,20,0.2)\n",
    "X.shape"
   ]
  },
  {
   "cell_type": "code",
   "execution_count": 4,
   "id": "19de066e-afd2-4c82-a5c4-7e14e64f1250",
   "metadata": {},
   "outputs": [
    {
     "data": {
      "text/plain": [
       "torch.Size([100])"
      ]
     },
     "execution_count": 4,
     "metadata": {},
     "output_type": "execute_result"
    }
   ],
   "source": [
    "y = X * weights + bias\n",
    "y.shape"
   ]
  },
  {
   "cell_type": "code",
   "execution_count": 259,
   "id": "432ec64c-1408-45c1-ac8a-520749a3dea3",
   "metadata": {},
   "outputs": [
    {
     "data": {
      "text/plain": [
       "(torch.Size([70]), torch.Size([30]), torch.Size([70]), torch.Size([30]))"
      ]
     },
     "execution_count": 259,
     "metadata": {},
     "output_type": "execute_result"
    }
   ],
   "source": [
    "train_split = int(0.7 * len(X))\n",
    "X_train, y_train = X[:train_split], y[:train_split]\n",
    "X_test, y_test = X[train_split:], y[train_split:]\n",
    "X_train.shape, X_test.shape, y_train.shape, y_test.shape"
   ]
  },
  {
   "cell_type": "code",
   "execution_count": 260,
   "id": "bae40886-c495-4c1c-8b22-40c5b015d253",
   "metadata": {},
   "outputs": [],
   "source": [
    "class LinearRegression(nn.Module):\n",
    "    def __init__(self):\n",
    "        super().__init__()\n",
    "        self.weights = nn.Parameter(torch.randn(1,requires_grad=True,dtype=torch.float))\n",
    "        self.bias = nn.Parameter(torch.randn(1,requires_grad=True,dtype=torch.float))\n",
    "    def forward(self,x:torch.Tensor)-> torch.Tensor:\n",
    "        return self.weights * x + self.bias"
   ]
  },
  {
   "cell_type": "code",
   "execution_count": 261,
   "id": "11e50ca7-0f10-43dc-b7ac-3cb4adf73d89",
   "metadata": {},
   "outputs": [],
   "source": [
    "torch.manual_seed(42)\n",
    "model = LinearRegression()"
   ]
  },
  {
   "cell_type": "code",
   "execution_count": 262,
   "id": "d87df749-113a-46ee-9977-37e335c0c54d",
   "metadata": {},
   "outputs": [
    {
     "data": {
      "text/plain": [
       "OrderedDict([('weights', tensor([0.3367])), ('bias', tensor([0.1288]))])"
      ]
     },
     "execution_count": 262,
     "metadata": {},
     "output_type": "execute_result"
    }
   ],
   "source": [
    "model.state_dict()"
   ]
  },
  {
   "cell_type": "code",
   "execution_count": 263,
   "id": "d538dcd1-b2ab-4016-baaa-3a44d7aaa468",
   "metadata": {},
   "outputs": [
    {
     "data": {
      "text/plain": [
       "[Parameter containing:\n",
       " tensor([0.3367], requires_grad=True),\n",
       " Parameter containing:\n",
       " tensor([0.1288], requires_grad=True)]"
      ]
     },
     "execution_count": 263,
     "metadata": {},
     "output_type": "execute_result"
    }
   ],
   "source": [
    "list(model.parameters())"
   ]
  },
  {
   "cell_type": "code",
   "execution_count": 264,
   "id": "b400de7c-cf80-49e1-a5d1-7d4047d70927",
   "metadata": {},
   "outputs": [],
   "source": [
    "loss_fn = nn.L1Loss()\n",
    "optimizer = torch.optim.SGD(params=model.parameters(),lr=0.00001)"
   ]
  },
  {
   "cell_type": "code",
   "execution_count": 265,
   "id": "771ba5e5-95cd-4814-bb74-e932645fee7f",
   "metadata": {},
   "outputs": [
    {
     "data": {
      "text/plain": [
       "OrderedDict([('weights', tensor([0.3367])), ('bias', tensor([0.1288]))])"
      ]
     },
     "execution_count": 265,
     "metadata": {},
     "output_type": "execute_result"
    }
   ],
   "source": [
    "model.state_dict()"
   ]
  },
  {
   "cell_type": "code",
   "execution_count": 308,
   "id": "d2f06dc7-6867-49c7-b791-7a8bb0633c59",
   "metadata": {},
   "outputs": [
    {
     "name": "stdout",
     "output_type": "stream",
     "text": [
      "loss:0.0004451313288882375\n"
     ]
    },
    {
     "data": {
      "text/plain": [
       "OrderedDict([('weights', tensor([0.7000])), ('bias', tensor([0.3000]))])"
      ]
     },
     "execution_count": 308,
     "metadata": {},
     "output_type": "execute_result"
    }
   ],
   "source": [
    "epochs = 10000\n",
    "for i in range(epochs):\n",
    "    model.train()\n",
    "    y_pred = model(X_train)\n",
    "    loss = loss_fn(y_pred,y_train)\n",
    "    optimizer.zero_grad()\n",
    "    loss.backward()\n",
    "    optimizer.step()\n",
    "    model.eval()\n",
    "print(f\"loss:{loss}\")\n",
    "model.state_dict()"
   ]
  },
  {
   "cell_type": "code",
   "execution_count": 258,
   "id": "304e2b41-5ab6-4feb-8de0-70790a121132",
   "metadata": {},
   "outputs": [
    {
     "name": "stdout",
     "output_type": "stream",
     "text": [
      "test loss:3.3317246437072754\n"
     ]
    },
    {
     "data": {
      "text/plain": [
       "tensor(7.3761)"
      ]
     },
     "execution_count": 258,
     "metadata": {},
     "output_type": "execute_result"
    }
   ],
   "source": [
    "with torch.inference_mode():\n",
    "    y_pred_test = model(X_test)\n",
    "    j_test = loss_fn(y_test,y_pred_test)\n",
    "    print(f\"test loss:{j_test}\")\n",
    "X_test[0]*0.7006+0.3000"
   ]
  },
  {
   "cell_type": "code",
   "execution_count": 256,
   "id": "24760a72-c6c2-4e41-a781-2311ffe988e2",
   "metadata": {},
   "outputs": [
    {
     "data": {
      "text/plain": [
       "(tensor([10.1000, 10.2400, 10.3800, 10.5200, 10.6600, 10.8000, 10.9400, 11.0800,\n",
       "         11.2200, 11.3600, 11.5000, 11.6400, 11.7800, 11.9200, 12.0600, 12.2000,\n",
       "         12.3400, 12.4800, 12.6200, 12.7600, 12.9000, 13.0400, 13.1800, 13.3200,\n",
       "         13.4600, 13.6000, 13.7400, 13.8800, 14.0200, 14.1600]),\n",
       " tensor([10.1000, 10.2400, 10.3800, 10.5200, 10.6600, 10.8000, 10.9400, 11.0800,\n",
       "         11.2200, 11.3600, 11.5000, 11.6400, 11.7800, 11.9200, 12.0600, 12.2000,\n",
       "         12.3400, 12.4800, 12.6200, 12.7600, 12.9000, 13.0400, 13.1800, 13.3200,\n",
       "         13.4600, 13.6000, 13.7400, 13.8800, 14.0200, 14.1600]))"
      ]
     },
     "execution_count": 256,
     "metadata": {},
     "output_type": "execute_result"
    }
   ],
   "source": [
    "X_test,y_test"
   ]
  },
  {
   "cell_type": "code",
   "execution_count": null,
   "id": "4ed5b133-af8a-42da-b5be-fc0d9ae9e9ad",
   "metadata": {},
   "outputs": [],
   "source": []
  }
 ],
 "metadata": {
  "kernelspec": {
   "display_name": "Python 3 (ipykernel)",
   "language": "python",
   "name": "python3"
  },
  "language_info": {
   "codemirror_mode": {
    "name": "ipython",
    "version": 3
   },
   "file_extension": ".py",
   "mimetype": "text/x-python",
   "name": "python",
   "nbconvert_exporter": "python",
   "pygments_lexer": "ipython3",
   "version": "3.10.12"
  }
 },
 "nbformat": 4,
 "nbformat_minor": 5
}
