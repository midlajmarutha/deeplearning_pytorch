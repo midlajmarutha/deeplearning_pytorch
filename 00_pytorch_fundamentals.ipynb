{
 "cells": [
  {
   "cell_type": "code",
   "execution_count": 1,
   "id": "ae0579b2-8519-4b21-968d-4c0259de3b10",
   "metadata": {},
   "outputs": [],
   "source": [
    "import torch"
   ]
  },
  {
   "cell_type": "markdown",
   "id": "0687cfb1-8546-495e-95b1-145eeee58aeb",
   "metadata": {},
   "source": [
    "### First Tensor\n",
    "Creating tensors with different dimentions using pytorch"
   ]
  },
  {
   "cell_type": "code",
   "execution_count": 2,
   "id": "5abc0a1e-d035-4ef4-bb06-67bda6441d10",
   "metadata": {},
   "outputs": [
    {
     "name": "stdout",
     "output_type": "stream",
     "text": [
      "torch.Size([7])\n"
     ]
    },
    {
     "data": {
      "text/plain": [
       "tensor([[0.1149, 0.2406, 0.7541, 0.1170, 0.0234],\n",
       "        [0.1163, 0.7969, 0.4463, 0.1939, 0.2865],\n",
       "        [0.9927, 0.2708, 0.7071, 0.1585, 0.5880],\n",
       "        [0.2506, 0.9943, 0.1326, 0.1051, 0.3902]])"
      ]
     },
     "execution_count": 2,
     "metadata": {},
     "output_type": "execute_result"
    }
   ],
   "source": [
    "tensor = torch.tensor(5) # scalar\n",
    "\n",
    "# 1 dimentional tensor\n",
    "tensor1 = torch.tensor([3,2,5,6,3,6,3])  # vector \n",
    "print(tensor1.shape)\n",
    "\n",
    "# 2 dimentional tensor\n",
    "# matrix\n",
    "tensor2 = torch.tensor([[1,2,3,4,5],\n",
    "                        [6,7,8,9,0]])\n",
    "\n",
    "# [4,5] tensor with random elements; rand(dim) method creates ramdom tensor with given dimention \n",
    "random_tensor = torch.rand([4,5])\n",
    "random_tensor"
   ]
  },
  {
   "cell_type": "code",
   "execution_count": 3,
   "id": "a69fa031-6b37-45eb-b05c-08da72077b12",
   "metadata": {},
   "outputs": [
    {
     "data": {
      "text/plain": [
       "tensor([1, 3, 5, 7, 9])"
      ]
     },
     "execution_count": 3,
     "metadata": {},
     "output_type": "execute_result"
    }
   ],
   "source": [
    "torch.arange(1,10,2)"
   ]
  },
  {
   "cell_type": "code",
   "execution_count": 4,
   "id": "b0fa265f-bba9-4a8e-b358-2f57f4667fab",
   "metadata": {},
   "outputs": [
    {
     "data": {
      "text/plain": [
       "torch.Size([7])"
      ]
     },
     "execution_count": 4,
     "metadata": {},
     "output_type": "execute_result"
    }
   ],
   "source": [
    "# shape of the tensor\n",
    "tensor1.shape\n",
    "# OR\n",
    "tensor1.size()"
   ]
  },
  {
   "cell_type": "markdown",
   "id": "c0193b15-f754-49ed-9b28-62c4a0514ff2",
   "metadata": {},
   "source": [
    "### Tensor Datatypes\n",
    "\n",
    "Tensors can have many datatype such as float16, float32, int32, int16 etc.\n",
    "tensor.dtype contain data type of the tensor"
   ]
  },
  {
   "cell_type": "code",
   "execution_count": 5,
   "id": "72cd6415-76e0-4f3a-aeb3-5618ad1c403f",
   "metadata": {},
   "outputs": [
    {
     "data": {
      "text/plain": [
       "torch.float32"
      ]
     },
     "execution_count": 5,
     "metadata": {},
     "output_type": "execute_result"
    }
   ],
   "source": [
    "# tensor.dtype contain data type of the tensor\n",
    "random_tensor.dtype"
   ]
  },
  {
   "cell_type": "code",
   "execution_count": 6,
   "id": "3917e7fb-d3ba-4725-b894-d1722f737f17",
   "metadata": {},
   "outputs": [
    {
     "data": {
      "text/plain": [
       "torch.float16"
      ]
     },
     "execution_count": 6,
     "metadata": {},
     "output_type": "execute_result"
    }
   ],
   "source": [
    "# changing type of a tensor: type()\n",
    "f16tensor = random_tensor.type(torch.float16)\n",
    "f16tensor.dtype"
   ]
  },
  {
   "cell_type": "markdown",
   "id": "3c2f7a50-623d-4502-861b-ba790124d4d7",
   "metadata": {},
   "source": [
    "### Tensor aggregation\n",
    "finding min, max, sum, mean etc of a tensor"
   ]
  },
  {
   "cell_type": "code",
   "execution_count": 7,
   "id": "27c46c46-ea47-4812-b087-cbffdda2c669",
   "metadata": {},
   "outputs": [
    {
     "data": {
      "text/plain": [
       "(tensor(1), tensor(8))"
      ]
     },
     "execution_count": 7,
     "metadata": {},
     "output_type": "execute_result"
    }
   ],
   "source": [
    "x = torch.tensor([1,2,3,4,5,6,7,8])\n",
    "\n",
    "# finding min and max of the tensor x\n",
    "torch.min(x), torch.max(x)\n",
    "# OR\n",
    "x.min(),x.max()"
   ]
  },
  {
   "cell_type": "code",
   "execution_count": 8,
   "id": "8e8d600a-546b-4f78-a9a2-89f26aac2874",
   "metadata": {},
   "outputs": [
    {
     "data": {
      "text/plain": [
       "(tensor(36), tensor(36))"
      ]
     },
     "execution_count": 8,
     "metadata": {},
     "output_type": "execute_result"
    }
   ],
   "source": [
    "#finding sum of the tensor\n",
    "torch.sum(x), x.sum()"
   ]
  },
  {
   "cell_type": "code",
   "execution_count": 9,
   "id": "429a2a38-6c79-4d4f-9e0b-20278311bf39",
   "metadata": {},
   "outputs": [
    {
     "data": {
      "text/plain": [
       "(tensor(4.5000), tensor(4.5000))"
      ]
     },
     "execution_count": 9,
     "metadata": {},
     "output_type": "execute_result"
    }
   ],
   "source": [
    "# finding the mean of the tensor x\n",
    "# to find the mean, the tensor have to be floating point or complex dtype\n",
    "# x.mean() or torch.mean(x) don't work, because dtype of tensor x in int64 (long)\n",
    "x = x.type(torch.float32)\n",
    "x.mean(), torch.mean(x)"
   ]
  },
  {
   "cell_type": "code",
   "execution_count": 10,
   "id": "721f5e70-1720-4e5c-85f4-b0fd2df9bb38",
   "metadata": {},
   "outputs": [
    {
     "data": {
      "text/plain": [
       "(tensor(0), tensor(7))"
      ]
     },
     "execution_count": 10,
     "metadata": {},
     "output_type": "execute_result"
    }
   ],
   "source": [
    "# finding positional min and max (position of the min and max elment in the tensor)\n",
    "\n",
    "x.argmin(), x.argmax()"
   ]
  },
  {
   "cell_type": "markdown",
   "id": "cb6a6d89-4d7c-4d66-9a0b-45d935eea940",
   "metadata": {},
   "source": [
    "### Manipulating tensors (Tensor operations)\n",
    "\n",
    "Tensor operations:\n",
    "* Addition\n",
    "* Subtraction\n",
    "* Multiplication (element wise)\n",
    "* Division\n",
    "* Matix Multiplication"
   ]
  },
  {
   "cell_type": "code",
   "execution_count": 11,
   "id": "c0debb9d-1b77-45e4-8eab-2adcf65420c6",
   "metadata": {},
   "outputs": [
    {
     "data": {
      "text/plain": [
       "tensor([[0.7177, 0.6364, 0.6668, 0.7803],\n",
       "        [0.9246, 0.9254, 0.4535, 0.5621],\n",
       "        [0.3097, 0.2076, 0.4416, 0.8025],\n",
       "        [0.1477, 0.1693, 0.7068, 0.4113]])"
      ]
     },
     "execution_count": 11,
     "metadata": {},
     "output_type": "execute_result"
    }
   ],
   "source": [
    "tensor = torch.rand([4,4])\n",
    "tensor"
   ]
  },
  {
   "cell_type": "code",
   "execution_count": 12,
   "id": "dca057ba-177b-4a51-8f72-b9dcab4afbcb",
   "metadata": {},
   "outputs": [
    {
     "data": {
      "text/plain": [
       "(tensor([[1.7177, 1.6364, 1.6668, 1.7803],\n",
       "         [1.9246, 1.9254, 1.4535, 1.5621],\n",
       "         [1.3097, 1.2076, 1.4416, 1.8025],\n",
       "         [1.1477, 1.1693, 1.7068, 1.4113]]),\n",
       " tensor([[1.7177, 1.6364, 1.6668, 1.7803],\n",
       "         [1.9246, 1.9254, 1.4535, 1.5621],\n",
       "         [1.3097, 1.2076, 1.4416, 1.8025],\n",
       "         [1.1477, 1.1693, 1.7068, 1.4113]]),\n",
       " tensor([[1.7177, 1.6364, 1.6668, 1.7803],\n",
       "         [1.9246, 1.9254, 1.4535, 1.5621],\n",
       "         [1.3097, 1.2076, 1.4416, 1.8025],\n",
       "         [1.1477, 1.1693, 1.7068, 1.4113]]))"
      ]
     },
     "execution_count": 12,
     "metadata": {},
     "output_type": "execute_result"
    }
   ],
   "source": [
    "# Addition\n",
    "tensor + 1, torch.add(tensor,1), tensor.add(1)"
   ]
  },
  {
   "cell_type": "code",
   "execution_count": 13,
   "id": "a339ce8e-773a-4bf6-ae37-e388141bcd92",
   "metadata": {},
   "outputs": [
    {
     "data": {
      "text/plain": [
       "(tensor([[-0.2823, -0.3636, -0.3332, -0.2197],\n",
       "         [-0.0754, -0.0746, -0.5465, -0.4379],\n",
       "         [-0.6903, -0.7924, -0.5584, -0.1975],\n",
       "         [-0.8523, -0.8307, -0.2932, -0.5887]]),\n",
       " tensor([[-0.2823, -0.3636, -0.3332, -0.2197],\n",
       "         [-0.0754, -0.0746, -0.5465, -0.4379],\n",
       "         [-0.6903, -0.7924, -0.5584, -0.1975],\n",
       "         [-0.8523, -0.8307, -0.2932, -0.5887]]),\n",
       " tensor([[-0.2823, -0.3636, -0.3332, -0.2197],\n",
       "         [-0.0754, -0.0746, -0.5465, -0.4379],\n",
       "         [-0.6903, -0.7924, -0.5584, -0.1975],\n",
       "         [-0.8523, -0.8307, -0.2932, -0.5887]]))"
      ]
     },
     "execution_count": 13,
     "metadata": {},
     "output_type": "execute_result"
    }
   ],
   "source": [
    "#subtaction\n",
    "tensor - 1, torch.subtract(tensor,1), tensor.subtract(1)"
   ]
  },
  {
   "cell_type": "code",
   "execution_count": 14,
   "id": "bf2982e5-d070-4432-903c-b54fb277421c",
   "metadata": {},
   "outputs": [
    {
     "data": {
      "text/plain": [
       "(tensor([[2.1531, 1.9093, 2.0003, 2.3408],\n",
       "         [2.7737, 2.7762, 1.3604, 1.6863],\n",
       "         [0.9292, 0.6227, 1.3248, 2.4074],\n",
       "         [0.4430, 0.5078, 2.1205, 1.2338]]),\n",
       " tensor([[2.1531, 1.9093, 2.0003, 2.3408],\n",
       "         [2.7737, 2.7762, 1.3604, 1.6863],\n",
       "         [0.9292, 0.6227, 1.3248, 2.4074],\n",
       "         [0.4430, 0.5078, 2.1205, 1.2338]]),\n",
       " tensor([[2.1531, 1.9093, 2.0003, 2.3408],\n",
       "         [2.7737, 2.7762, 1.3604, 1.6863],\n",
       "         [0.9292, 0.6227, 1.3248, 2.4074],\n",
       "         [0.4430, 0.5078, 2.1205, 1.2338]]))"
      ]
     },
     "execution_count": 14,
     "metadata": {},
     "output_type": "execute_result"
    }
   ],
   "source": [
    "# Element wise multiplication\n",
    "tensor * 3, torch.mul(tensor,3), tensor.mul(3)"
   ]
  },
  {
   "cell_type": "code",
   "execution_count": 15,
   "id": "c8f650fa-ebbd-427a-b77f-a2a7eb935a13",
   "metadata": {},
   "outputs": [
    {
     "data": {
      "text/plain": [
       "(tensor([[0.3589, 0.3182, 0.3334, 0.3901],\n",
       "         [0.4623, 0.4627, 0.2267, 0.2811],\n",
       "         [0.1549, 0.1038, 0.2208, 0.4012],\n",
       "         [0.0738, 0.0846, 0.3534, 0.2056]]),\n",
       " tensor([[0.3589, 0.3182, 0.3334, 0.3901],\n",
       "         [0.4623, 0.4627, 0.2267, 0.2811],\n",
       "         [0.1549, 0.1038, 0.2208, 0.4012],\n",
       "         [0.0738, 0.0846, 0.3534, 0.2056]]),\n",
       " tensor([[0.3589, 0.3182, 0.3334, 0.3901],\n",
       "         [0.4623, 0.4627, 0.2267, 0.2811],\n",
       "         [0.1549, 0.1038, 0.2208, 0.4012],\n",
       "         [0.0738, 0.0846, 0.3534, 0.2056]]))"
      ]
     },
     "execution_count": 15,
     "metadata": {},
     "output_type": "execute_result"
    }
   ],
   "source": [
    "# Division\n",
    "tensor / 2, torch.divide(tensor, 2), tensor.divide(2)"
   ]
  },
  {
   "cell_type": "markdown",
   "id": "6182d36c-1fdb-498c-9c63-28d06bf002ac",
   "metadata": {},
   "source": [
    "### Matrix multiplication (Multiplying Tensors)\n",
    "##### Dot product\n",
    "Rules of matric multiplication\n",
    "* The inner dimention of two tensors must be same\n",
    "    - `(3,2) * (3,4)` won't work\n",
    "    - `(3,2) * (2,4)` will work\n",
    "* The dimention of the result will be same as the outer dimentions of the operant matrices\n",
    "    - `(3,2) * (4,2)` will result the matrix with the shape of `(2,4)`\n",
    "    - `(2) * (2)` will result the matrix with the shape of `(1)` ( matmul(scalar, scalar ) == scalar )"
   ]
  },
  {
   "cell_type": "code",
   "execution_count": 16,
   "id": "9ec99ef6-020a-42e7-ba4f-5eac15b3b0ff",
   "metadata": {},
   "outputs": [
    {
     "data": {
      "text/plain": [
       "(tensor([[2.0309, 1.2293, 1.4701, 1.8268, 1.8114, 0.7849],\n",
       "         [2.2597, 1.2164, 1.2229, 2.0749, 1.6194, 0.7862],\n",
       "         [1.1094, 0.7601, 1.1491, 0.9183, 1.2754, 0.5669],\n",
       "         [0.9320, 0.6781, 0.9602, 0.8618, 1.1440, 0.3399]]),\n",
       " tensor([[2.0309, 1.2293, 1.4701, 1.8268, 1.8114, 0.7849],\n",
       "         [2.2597, 1.2164, 1.2229, 2.0749, 1.6194, 0.7862],\n",
       "         [1.1094, 0.7601, 1.1491, 0.9183, 1.2754, 0.5669],\n",
       "         [0.9320, 0.6781, 0.9602, 0.8618, 1.1440, 0.3399]]),\n",
       " tensor([[2.0309, 1.2293, 1.4701, 1.8268, 1.8114, 0.7849],\n",
       "         [2.2597, 1.2164, 1.2229, 2.0749, 1.6194, 0.7862],\n",
       "         [1.1094, 0.7601, 1.1491, 0.9183, 1.2754, 0.5669],\n",
       "         [0.9320, 0.6781, 0.9602, 0.8618, 1.1440, 0.3399]]))"
      ]
     },
     "execution_count": 16,
     "metadata": {},
     "output_type": "execute_result"
    }
   ],
   "source": [
    "# note that the inner dimentions of Tensors \"tensor\" and \"tensor2\"\n",
    "tensor2 = torch.rand([4,6])\n",
    "tensor @ tensor2, torch.matmul(tensor,tensor2), tensor.matmul(tensor2)"
   ]
  },
  {
   "cell_type": "markdown",
   "id": "ede6e1b2-1f22-4b40-9da2-ed18cc1ec35e",
   "metadata": {},
   "source": [
    "#### Difference between Pytorch functions and hardcoded function"
   ]
  },
  {
   "cell_type": "code",
   "execution_count": 17,
   "id": "176fb5c4-d7d4-4141-aa55-213c7c26fab9",
   "metadata": {},
   "outputs": [
    {
     "name": "stdout",
     "output_type": "stream",
     "text": [
      "CPU times: user 5 μs, sys: 1 μs, total: 6 μs\n",
      "Wall time: 10.7 μs\n"
     ]
    },
    {
     "data": {
      "text/plain": [
       "tensor([[2.0309, 1.2293, 1.4701, 1.8268, 1.8114, 0.7849],\n",
       "        [2.2597, 1.2164, 1.2229, 2.0749, 1.6194, 0.7862],\n",
       "        [1.1094, 0.7601, 1.1491, 0.9183, 1.2754, 0.5669],\n",
       "        [0.9320, 0.6781, 0.9602, 0.8618, 1.1440, 0.3399]])"
      ]
     },
     "execution_count": 17,
     "metadata": {},
     "output_type": "execute_result"
    }
   ],
   "source": [
    "%time\n",
    "torch.matmul(tensor,tensor2)"
   ]
  },
  {
   "cell_type": "markdown",
   "id": "b9b2f355-9fb8-426b-914a-0145b81963e0",
   "metadata": {},
   "source": [
    "##### Transpose of a matirx\n",
    "Transpose will interchange coloums and rows \\\n",
    "`tensor([2,3]).T ==> tensor([3,2])`\n",
    "* the transpose can be used to fix the shape not mach problems in matrix multiplication"
   ]
  },
  {
   "cell_type": "code",
   "execution_count": 18,
   "id": "11dfb03c-1203-4204-a9d1-1280d00981a8",
   "metadata": {},
   "outputs": [
    {
     "data": {
      "text/plain": [
       "(tensor([[1, 2, 3],\n",
       "         [4, 5, 6]]),\n",
       " torch.Size([2, 3]))"
      ]
     },
     "execution_count": 18,
     "metadata": {},
     "output_type": "execute_result"
    }
   ],
   "source": [
    "t1 = torch.tensor([[1,2,3,],\n",
    "                   [4,5,6]])\n",
    "t1,t1.shape"
   ]
  },
  {
   "cell_type": "code",
   "execution_count": 19,
   "id": "418fd5c2-5fe0-405c-a2d8-c3db37a308fd",
   "metadata": {},
   "outputs": [
    {
     "data": {
      "text/plain": [
       "tensor([[1, 4],\n",
       "        [2, 5],\n",
       "        [3, 6]])"
      ]
     },
     "execution_count": 19,
     "metadata": {},
     "output_type": "execute_result"
    }
   ],
   "source": [
    "# transpose of the matrix t1\n",
    "t1.T"
   ]
  },
  {
   "cell_type": "markdown",
   "id": "50715d0c-484f-435d-88ac-1b120ebfd0e4",
   "metadata": {},
   "source": [
    "### Reshaping, Stacking, Squeezing, Unsqueezing\n",
    "* Reshaping - Reshapes input tensor to a difined shape\n",
    "* View - Returns a view of the tensor of cirtain shape but keep the memory as the original tensor\n",
    "* Stacking - Combines multiple tensors on top of eachother (vstack) or side-by-side (hstack)\n",
    "* Squeezing - Removes all `1` dimentions from the tensor\n",
    "* Unsqueezing - Adds a `1` dimentions to the tensor\n",
    "* Permute - Return a view of the input tensor with dimentions permuted"
   ]
  },
  {
   "cell_type": "code",
   "execution_count": 23,
   "id": "89258bee-0ebc-4d69-958e-03227fb7ee3f",
   "metadata": {},
   "outputs": [
    {
     "data": {
      "text/plain": [
       "torch.Size([9])"
      ]
     },
     "execution_count": 23,
     "metadata": {},
     "output_type": "execute_result"
    }
   ],
   "source": [
    "x = torch.arange(1,10)\n",
    "x.shape"
   ]
  },
  {
   "cell_type": "code",
   "execution_count": 29,
   "id": "6653b98d-4082-47df-9ba6-22d4823d3f00",
   "metadata": {},
   "outputs": [
    {
     "data": {
      "text/plain": [
       "tensor([[1, 2, 3, 4, 5, 6, 7, 8, 9]])"
      ]
     },
     "execution_count": 29,
     "metadata": {},
     "output_type": "execute_result"
    }
   ],
   "source": [
    "x_reshaped = x.reshape([1,9])\n",
    "x_reshaped"
   ]
  },
  {
   "cell_type": "code",
   "execution_count": 30,
   "id": "44fff32a-2af4-4d5f-b642-ad81e4fff467",
   "metadata": {},
   "outputs": [
    {
     "data": {
      "text/plain": [
       "tensor([[1, 2, 3],\n",
       "        [4, 5, 6],\n",
       "        [7, 8, 9]])"
      ]
     },
     "execution_count": 30,
     "metadata": {},
     "output_type": "execute_result"
    }
   ],
   "source": [
    "x_reshaped = x.reshape([3,3])\n",
    "x_reshaped"
   ]
  },
  {
   "cell_type": "code",
   "execution_count": 33,
   "id": "9f7d7d3b-b01f-492a-b081-a876cfaf27ba",
   "metadata": {},
   "outputs": [
    {
     "data": {
      "text/plain": [
       "tensor([[1, 2, 3],\n",
       "        [4, 5, 6],\n",
       "        [7, 8, 9]])"
      ]
     },
     "execution_count": 33,
     "metadata": {},
     "output_type": "execute_result"
    }
   ],
   "source": [
    "x_view = x.view(3,3)\n",
    "x_view"
   ]
  },
  {
   "cell_type": "code",
   "execution_count": 35,
   "id": "23b44b51-c7c7-405d-85c1-de5042f7c225",
   "metadata": {},
   "outputs": [
    {
     "data": {
      "text/plain": [
       "(tensor([[4, 2, 3],\n",
       "         [4, 5, 6],\n",
       "         [4, 8, 9]]),\n",
       " tensor([4, 2, 3, 4, 5, 6, 4, 8, 9]))"
      ]
     },
     "execution_count": 35,
     "metadata": {},
     "output_type": "execute_result"
    }
   ],
   "source": [
    "# changing x_view changes x, because the view share same memory\n",
    "x_view[:,0] = 4\n",
    "x_view, x"
   ]
  },
  {
   "cell_type": "code",
   "execution_count": 40,
   "id": "e28de6ba-01f8-481d-90c7-7fa40fe4707d",
   "metadata": {},
   "outputs": [
    {
     "data": {
      "text/plain": [
       "(tensor([[4, 2, 3, 4, 5, 6, 4, 8, 9],\n",
       "         [4, 2, 3, 4, 5, 6, 4, 8, 9],\n",
       "         [4, 2, 3, 4, 5, 6, 4, 8, 9],\n",
       "         [4, 2, 3, 4, 5, 6, 4, 8, 9]]),\n",
       " tensor([[4, 2, 3, 4, 5, 6, 4, 8, 9],\n",
       "         [4, 2, 3, 4, 5, 6, 4, 8, 9],\n",
       "         [4, 2, 3, 4, 5, 6, 4, 8, 9],\n",
       "         [4, 2, 3, 4, 5, 6, 4, 8, 9]]))"
      ]
     },
     "execution_count": 40,
     "metadata": {},
     "output_type": "execute_result"
    }
   ],
   "source": [
    "# Stack tensors\n",
    "\n",
    "x_stacked = torch.stack([x,x,x,x])\n",
    "x_stacked, torch.vstack([x,x,x,x])"
   ]
  },
  {
   "cell_type": "code",
   "execution_count": 41,
   "id": "82a9b268-2e85-46ad-a710-678ca971905d",
   "metadata": {},
   "outputs": [
    {
     "data": {
      "text/plain": [
       "(tensor([[4, 4, 4, 4],\n",
       "         [2, 2, 2, 2],\n",
       "         [3, 3, 3, 3],\n",
       "         [4, 4, 4, 4],\n",
       "         [5, 5, 5, 5],\n",
       "         [6, 6, 6, 6],\n",
       "         [4, 4, 4, 4],\n",
       "         [8, 8, 8, 8],\n",
       "         [9, 9, 9, 9]]),\n",
       " tensor([4, 2, 3, 4, 5, 6, 4, 8, 9, 4, 2, 3, 4, 5, 6, 4, 8, 9, 4, 2, 3, 4, 5, 6,\n",
       "         4, 8, 9, 4, 2, 3, 4, 5, 6, 4, 8, 9]))"
      ]
     },
     "execution_count": 41,
     "metadata": {},
     "output_type": "execute_result"
    }
   ],
   "source": [
    "x_stacked = torch.stack([x,x,x,x],dim = 1)\n",
    "x_stacked, torch.hstack([x,x,x,x])"
   ]
  },
  {
   "cell_type": "code",
   "execution_count": 50,
   "id": "eed51244-b10a-4769-a5e4-c4e7ab2014e2",
   "metadata": {},
   "outputs": [
    {
     "data": {
      "text/plain": [
       "(torch.Size([1, 1, 9, 1]),\n",
       " tensor([[[[4],\n",
       "           [2],\n",
       "           [3],\n",
       "           [4],\n",
       "           [5],\n",
       "           [6],\n",
       "           [4],\n",
       "           [8],\n",
       "           [9]]]]))"
      ]
     },
     "execution_count": 50,
     "metadata": {},
     "output_type": "execute_result"
    }
   ],
   "source": [
    "# squeezing tensor\n",
    "y = x.reshape([1,1,9,1])\n",
    "y.shape,y"
   ]
  },
  {
   "cell_type": "code",
   "execution_count": 52,
   "id": "58771af8-2202-4993-b84b-17ab2da3c610",
   "metadata": {},
   "outputs": [
    {
     "data": {
      "text/plain": [
       "(tensor([4, 2, 3, 4, 5, 6, 4, 8, 9]), tensor([4, 2, 3, 4, 5, 6, 4, 8, 9]))"
      ]
     },
     "execution_count": 52,
     "metadata": {},
     "output_type": "execute_result"
    }
   ],
   "source": [
    "y_squeezed = y.squeeze()\n",
    "y.squeeze(), torch.squeeze(y)"
   ]
  },
  {
   "cell_type": "code",
   "execution_count": 53,
   "id": "fb1e9326-b89e-4c14-a0d2-e20d32cec3d1",
   "metadata": {},
   "outputs": [
    {
     "data": {
      "text/plain": [
       "tensor([[4, 2, 3, 4, 5, 6, 4, 8, 9]])"
      ]
     },
     "execution_count": 53,
     "metadata": {},
     "output_type": "execute_result"
    }
   ],
   "source": [
    "# Unsqueezing tensor\n",
    "\n",
    "y_squeezed.unsqueeze(dim=0)"
   ]
  },
  {
   "cell_type": "code",
   "execution_count": 54,
   "id": "7e7660c0-785f-4b9f-a44c-6238da75d8cf",
   "metadata": {},
   "outputs": [
    {
     "data": {
      "text/plain": [
       "tensor([[4],\n",
       "        [2],\n",
       "        [3],\n",
       "        [4],\n",
       "        [5],\n",
       "        [6],\n",
       "        [4],\n",
       "        [8],\n",
       "        [9]])"
      ]
     },
     "execution_count": 54,
     "metadata": {},
     "output_type": "execute_result"
    }
   ],
   "source": [
    "y_squeezed.unsqueeze(dim=1)"
   ]
  },
  {
   "cell_type": "code",
   "execution_count": 59,
   "id": "79183614-dd50-4934-a91b-cf104daea0ec",
   "metadata": {},
   "outputs": [
    {
     "data": {
      "text/plain": [
       "(tensor([[[-0.4370, -0.0075,  0.0718],\n",
       "          [ 1.0566,  0.6150, -0.4108],\n",
       "          [-0.6563,  1.7070,  0.4566],\n",
       "          [-0.9054, -0.7563,  0.7667],\n",
       "          [ 0.3333,  0.2853,  0.1475]],\n",
       " \n",
       "         [[-0.1629, -0.2944,  0.7967],\n",
       "          [ 0.3163,  0.9613,  1.5175],\n",
       "          [ 1.5208, -0.4397,  0.0984],\n",
       "          [ 0.7893, -0.4037,  1.3342],\n",
       "          [-0.3732,  1.5044, -1.4545]]]),\n",
       " torch.Size([2, 5, 3]))"
      ]
     },
     "execution_count": 59,
     "metadata": {},
     "output_type": "execute_result"
    }
   ],
   "source": [
    "# Permuting tensors (swapping dims of tensors)\n",
    "\n",
    "perm = torch.randn(2,5,3)\n",
    "perm, perm.shape"
   ]
  },
  {
   "cell_type": "code",
   "execution_count": 65,
   "id": "3efd2409-278f-48f3-9891-c5fbf2a62643",
   "metadata": {},
   "outputs": [
    {
     "data": {
      "text/plain": [
       "(tensor([[[-0.4370, -0.0075,  0.0718],\n",
       "          [-0.1629, -0.2944,  0.7967]],\n",
       " \n",
       "         [[ 1.0566,  0.6150, -0.4108],\n",
       "          [ 0.3163,  0.9613,  1.5175]],\n",
       " \n",
       "         [[-0.6563,  1.7070,  0.4566],\n",
       "          [ 1.5208, -0.4397,  0.0984]],\n",
       " \n",
       "         [[-0.9054, -0.7563,  0.7667],\n",
       "          [ 0.7893, -0.4037,  1.3342]],\n",
       " \n",
       "         [[ 0.3333,  0.2853,  0.1475],\n",
       "          [-0.3732,  1.5044, -1.4545]]]),\n",
       " torch.Size([5, 2, 3]))"
      ]
     },
     "execution_count": 65,
     "metadata": {},
     "output_type": "execute_result"
    }
   ],
   "source": [
    "torch.permute(perm, [1,0,2]), torch.permute(perm,[1,0,2]).shape"
   ]
  },
  {
   "cell_type": "markdown",
   "id": "b78abb38-3e86-44a8-9e42-8ab68852a6c2",
   "metadata": {},
   "source": [
    "### Pytorch and Numpy\n",
    "* pytorch tensor -> numpy array `torch.Tensor.numpy()`\n",
    "* numpy array -> pytorch tensor `torch.from_numpy(ndarray)`"
   ]
  },
  {
   "cell_type": "code",
   "execution_count": 66,
   "id": "df3ca6e5-c116-4dfb-914c-0d8a7da64bf3",
   "metadata": {},
   "outputs": [],
   "source": [
    "import numpy as np"
   ]
  },
  {
   "cell_type": "code",
   "execution_count": 70,
   "id": "41f8ec19-36d5-44a5-a5b1-8da99d427682",
   "metadata": {},
   "outputs": [
    {
     "data": {
      "text/plain": [
       "tensor([1, 2, 3, 4, 5, 6, 7, 8, 9])"
      ]
     },
     "execution_count": 70,
     "metadata": {},
     "output_type": "execute_result"
    }
   ],
   "source": [
    "# np array to tensor\n",
    "np_arr = np.arange(1,10)\n",
    "np_to_tensor = torch.from_numpy(np_arr)\n",
    "np_to_tensor"
   ]
  },
  {
   "cell_type": "code",
   "execution_count": null,
   "id": "517d2053-22e8-4e21-ae69-607b8b053fe2",
   "metadata": {},
   "outputs": [],
   "source": [
    "# tensor to np"
   ]
  }
 ],
 "metadata": {
  "kernelspec": {
   "display_name": "Python 3 (ipykernel)",
   "language": "python",
   "name": "python3"
  },
  "language_info": {
   "codemirror_mode": {
    "name": "ipython",
    "version": 3
   },
   "file_extension": ".py",
   "mimetype": "text/x-python",
   "name": "python",
   "nbconvert_exporter": "python",
   "pygments_lexer": "ipython3",
   "version": "3.10.12"
  }
 },
 "nbformat": 4,
 "nbformat_minor": 5
}
