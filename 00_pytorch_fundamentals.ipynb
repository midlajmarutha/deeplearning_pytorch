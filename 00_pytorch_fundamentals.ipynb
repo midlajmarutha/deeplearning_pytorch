{
 "cells": [
  {
   "cell_type": "code",
   "execution_count": 1,
   "id": "ae0579b2-8519-4b21-968d-4c0259de3b10",
   "metadata": {},
   "outputs": [],
   "source": [
    "import torch"
   ]
  },
  {
   "cell_type": "markdown",
   "id": "0687cfb1-8546-495e-95b1-145eeee58aeb",
   "metadata": {},
   "source": [
    "### First Tensor\n",
    "Creating tensors with different dimentions using pytorch"
   ]
  },
  {
   "cell_type": "code",
   "execution_count": 10,
   "id": "5abc0a1e-d035-4ef4-bb06-67bda6441d10",
   "metadata": {},
   "outputs": [
    {
     "name": "stdout",
     "output_type": "stream",
     "text": [
      "torch.Size([7])\n"
     ]
    },
    {
     "data": {
      "text/plain": [
       "tensor([[0.7308, 0.6137, 0.4458, 0.8484, 0.4484],\n",
       "        [0.2236, 0.4570, 0.2445, 0.7584, 0.9475],\n",
       "        [0.8716, 0.5282, 0.6135, 0.0077, 0.8313],\n",
       "        [0.3911, 0.6572, 0.9406, 0.5018, 0.3437]])"
      ]
     },
     "execution_count": 10,
     "metadata": {},
     "output_type": "execute_result"
    }
   ],
   "source": [
    "# 1 dimentional tensor\n",
    "tensor1 = torch.tensor([3,2,5,6,3,6,3])\n",
    "print(tensor1.shape)\n",
    "# 2 dimentional tensor\n",
    "tensor2 = torch.tensor([[1,2,3,4,5],\n",
    "                        [6,7,8,9,0]])\n",
    "\n",
    "# [4,5] tensor with random elements; rand(dim) method creates ramdom tensor with given dimention \n",
    "random_tensor = torch.rand([4,5])\n",
    "random_tensor"
   ]
  },
  {
   "cell_type": "code",
   "execution_count": 11,
   "id": "b0fa265f-bba9-4a8e-b358-2f57f4667fab",
   "metadata": {},
   "outputs": [
    {
     "data": {
      "text/plain": [
       "torch.Size([7])"
      ]
     },
     "execution_count": 11,
     "metadata": {},
     "output_type": "execute_result"
    }
   ],
   "source": [
    "# shape of the tensor\n",
    "tensor1.shape\n",
    "# OR\n",
    "tensor1.size()"
   ]
  },
  {
   "cell_type": "code",
   "execution_count": null,
   "id": "5cedf1cf-701e-46a7-8e4b-5297a55b8361",
   "metadata": {},
   "outputs": [],
   "source": []
  }
 ],
 "metadata": {
  "kernelspec": {
   "display_name": "Python 3 (ipykernel)",
   "language": "python",
   "name": "python3"
  },
  "language_info": {
   "codemirror_mode": {
    "name": "ipython",
    "version": 3
   },
   "file_extension": ".py",
   "mimetype": "text/x-python",
   "name": "python",
   "nbconvert_exporter": "python",
   "pygments_lexer": "ipython3",
   "version": "3.10.12"
  }
 },
 "nbformat": 4,
 "nbformat_minor": 5
}
