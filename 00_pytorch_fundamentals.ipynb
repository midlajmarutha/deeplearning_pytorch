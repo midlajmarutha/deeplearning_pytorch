{
 "cells": [
  {
   "cell_type": "code",
   "execution_count": 1,
   "id": "ae0579b2-8519-4b21-968d-4c0259de3b10",
   "metadata": {},
   "outputs": [],
   "source": [
    "import torch"
   ]
  },
  {
   "cell_type": "markdown",
   "id": "0687cfb1-8546-495e-95b1-145eeee58aeb",
   "metadata": {},
   "source": [
    "### First Tensor\n",
    "Creating tensors with different dimentions using pytorch"
   ]
  },
  {
   "cell_type": "code",
   "execution_count": 2,
   "id": "5abc0a1e-d035-4ef4-bb06-67bda6441d10",
   "metadata": {},
   "outputs": [
    {
     "name": "stdout",
     "output_type": "stream",
     "text": [
      "torch.Size([7])\n"
     ]
    },
    {
     "data": {
      "text/plain": [
       "tensor([[0.1102, 0.2778, 0.8505, 0.3274, 0.1234],\n",
       "        [0.2596, 0.6155, 0.4405, 0.0880, 0.8024],\n",
       "        [0.2953, 0.2930, 0.0324, 0.8754, 0.7763],\n",
       "        [0.9273, 0.2501, 0.5818, 0.2358, 0.7715]])"
      ]
     },
     "execution_count": 2,
     "metadata": {},
     "output_type": "execute_result"
    }
   ],
   "source": [
    "tensor = torch.tensor(5) # scalar\n",
    "\n",
    "# 1 dimentional tensor\n",
    "tensor1 = torch.tensor([3,2,5,6,3,6,3])  # vector \n",
    "print(tensor1.shape)\n",
    "\n",
    "# 2 dimentional tensor\n",
    "# matrix\n",
    "tensor2 = torch.tensor([[1,2,3,4,5],\n",
    "                        [6,7,8,9,0]])\n",
    "\n",
    "# [4,5] tensor with random elements; rand(dim) method creates ramdom tensor with given dimention \n",
    "random_tensor = torch.rand([4,5])\n",
    "random_tensor"
   ]
  },
  {
   "cell_type": "code",
   "execution_count": 3,
   "id": "a69fa031-6b37-45eb-b05c-08da72077b12",
   "metadata": {},
   "outputs": [
    {
     "data": {
      "text/plain": [
       "tensor([1, 3, 5, 7, 9])"
      ]
     },
     "execution_count": 3,
     "metadata": {},
     "output_type": "execute_result"
    }
   ],
   "source": [
    "torch.arange(1,10,2)"
   ]
  },
  {
   "cell_type": "code",
   "execution_count": 4,
   "id": "b0fa265f-bba9-4a8e-b358-2f57f4667fab",
   "metadata": {},
   "outputs": [
    {
     "data": {
      "text/plain": [
       "torch.Size([7])"
      ]
     },
     "execution_count": 4,
     "metadata": {},
     "output_type": "execute_result"
    }
   ],
   "source": [
    "# shape of the tensor\n",
    "tensor1.shape\n",
    "# OR\n",
    "tensor1.size()"
   ]
  },
  {
   "cell_type": "markdown",
   "id": "c0193b15-f754-49ed-9b28-62c4a0514ff2",
   "metadata": {},
   "source": [
    "### Tensor Datatypes\n",
    "\n",
    "Tensors can have many datatype such as float16, float32, int32, int16 etc.\n",
    "tensor.dtype contain data type of the tensor"
   ]
  },
  {
   "cell_type": "code",
   "execution_count": 5,
   "id": "72cd6415-76e0-4f3a-aeb3-5618ad1c403f",
   "metadata": {},
   "outputs": [
    {
     "data": {
      "text/plain": [
       "torch.float32"
      ]
     },
     "execution_count": 5,
     "metadata": {},
     "output_type": "execute_result"
    }
   ],
   "source": [
    "# tensor.dtype contain data type of the tensor\n",
    "random_tensor.dtype"
   ]
  },
  {
   "cell_type": "code",
   "execution_count": 6,
   "id": "3917e7fb-d3ba-4725-b894-d1722f737f17",
   "metadata": {},
   "outputs": [
    {
     "data": {
      "text/plain": [
       "torch.float16"
      ]
     },
     "execution_count": 6,
     "metadata": {},
     "output_type": "execute_result"
    }
   ],
   "source": [
    "# changing type of a tensor: type()\n",
    "f16tensor = random_tensor.type(torch.float16)\n",
    "f16tensor.dtype"
   ]
  },
  {
   "cell_type": "markdown",
   "id": "3c2f7a50-623d-4502-861b-ba790124d4d7",
   "metadata": {},
   "source": [
    "### Tensor aggregation\n",
    "finding min, max, sum, mean etc of a tensor"
   ]
  },
  {
   "cell_type": "code",
   "execution_count": 7,
   "id": "27c46c46-ea47-4812-b087-cbffdda2c669",
   "metadata": {},
   "outputs": [
    {
     "data": {
      "text/plain": [
       "(tensor(1), tensor(8))"
      ]
     },
     "execution_count": 7,
     "metadata": {},
     "output_type": "execute_result"
    }
   ],
   "source": [
    "x = torch.tensor([1,2,3,4,5,6,7,8])\n",
    "\n",
    "# finding min and max of the tensor x\n",
    "torch.min(x), torch.max(x)\n",
    "# OR\n",
    "x.min(),x.max()"
   ]
  },
  {
   "cell_type": "code",
   "execution_count": 8,
   "id": "8e8d600a-546b-4f78-a9a2-89f26aac2874",
   "metadata": {},
   "outputs": [
    {
     "data": {
      "text/plain": [
       "(tensor(36), tensor(36))"
      ]
     },
     "execution_count": 8,
     "metadata": {},
     "output_type": "execute_result"
    }
   ],
   "source": [
    "#finding sum of the tensor\n",
    "torch.sum(x), x.sum()"
   ]
  },
  {
   "cell_type": "code",
   "execution_count": 9,
   "id": "429a2a38-6c79-4d4f-9e0b-20278311bf39",
   "metadata": {},
   "outputs": [
    {
     "data": {
      "text/plain": [
       "(tensor(4.5000), tensor(4.5000))"
      ]
     },
     "execution_count": 9,
     "metadata": {},
     "output_type": "execute_result"
    }
   ],
   "source": [
    "# finding the mean of the tensor x\n",
    "# to find the mean, the tensor have to be floating point or complex dtype\n",
    "# x.mean() or torch.mean(x) don't work, because dtype of tensor x in int64 (long)\n",
    "x = x.type(torch.float32)\n",
    "x.mean(), torch.mean(x)"
   ]
  },
  {
   "cell_type": "code",
   "execution_count": 10,
   "id": "721f5e70-1720-4e5c-85f4-b0fd2df9bb38",
   "metadata": {},
   "outputs": [
    {
     "data": {
      "text/plain": [
       "(tensor(0), tensor(7))"
      ]
     },
     "execution_count": 10,
     "metadata": {},
     "output_type": "execute_result"
    }
   ],
   "source": [
    "# finding positional min and max (position of the min and max elment in the tensor)\n",
    "\n",
    "x.argmin(), x.argmax()"
   ]
  },
  {
   "cell_type": "markdown",
   "id": "cb6a6d89-4d7c-4d66-9a0b-45d935eea940",
   "metadata": {},
   "source": [
    "### Manipulating tensors (Tensor operations)\n",
    "\n",
    "Tensor operations:\n",
    "* Addition\n",
    "* Subtraction\n",
    "* Multiplication (element wise)\n",
    "* Division\n",
    "* Matix Multiplication"
   ]
  },
  {
   "cell_type": "code",
   "execution_count": 11,
   "id": "c0debb9d-1b77-45e4-8eab-2adcf65420c6",
   "metadata": {},
   "outputs": [
    {
     "data": {
      "text/plain": [
       "tensor([[0.1970, 0.5195, 0.1607, 0.9909],\n",
       "        [0.2983, 0.3013, 0.7022, 0.8666],\n",
       "        [0.1532, 0.8221, 0.1558, 0.1137],\n",
       "        [0.6807, 0.5345, 0.6778, 0.6449]])"
      ]
     },
     "execution_count": 11,
     "metadata": {},
     "output_type": "execute_result"
    }
   ],
   "source": [
    "tensor = torch.rand([4,4])\n",
    "tensor"
   ]
  },
  {
   "cell_type": "code",
   "execution_count": 12,
   "id": "dca057ba-177b-4a51-8f72-b9dcab4afbcb",
   "metadata": {},
   "outputs": [
    {
     "data": {
      "text/plain": [
       "(tensor([[1.1970, 1.5195, 1.1607, 1.9909],\n",
       "         [1.2983, 1.3013, 1.7022, 1.8666],\n",
       "         [1.1532, 1.8221, 1.1558, 1.1137],\n",
       "         [1.6807, 1.5345, 1.6778, 1.6449]]),\n",
       " tensor([[1.1970, 1.5195, 1.1607, 1.9909],\n",
       "         [1.2983, 1.3013, 1.7022, 1.8666],\n",
       "         [1.1532, 1.8221, 1.1558, 1.1137],\n",
       "         [1.6807, 1.5345, 1.6778, 1.6449]]),\n",
       " tensor([[1.1970, 1.5195, 1.1607, 1.9909],\n",
       "         [1.2983, 1.3013, 1.7022, 1.8666],\n",
       "         [1.1532, 1.8221, 1.1558, 1.1137],\n",
       "         [1.6807, 1.5345, 1.6778, 1.6449]]))"
      ]
     },
     "execution_count": 12,
     "metadata": {},
     "output_type": "execute_result"
    }
   ],
   "source": [
    "# Addition\n",
    "tensor + 1, torch.add(tensor,1), tensor.add(1)"
   ]
  },
  {
   "cell_type": "code",
   "execution_count": 13,
   "id": "a339ce8e-773a-4bf6-ae37-e388141bcd92",
   "metadata": {},
   "outputs": [
    {
     "data": {
      "text/plain": [
       "(tensor([[-0.8030, -0.4805, -0.8393, -0.0091],\n",
       "         [-0.7017, -0.6987, -0.2978, -0.1334],\n",
       "         [-0.8468, -0.1779, -0.8442, -0.8863],\n",
       "         [-0.3193, -0.4655, -0.3222, -0.3551]]),\n",
       " tensor([[-0.8030, -0.4805, -0.8393, -0.0091],\n",
       "         [-0.7017, -0.6987, -0.2978, -0.1334],\n",
       "         [-0.8468, -0.1779, -0.8442, -0.8863],\n",
       "         [-0.3193, -0.4655, -0.3222, -0.3551]]),\n",
       " tensor([[-0.8030, -0.4805, -0.8393, -0.0091],\n",
       "         [-0.7017, -0.6987, -0.2978, -0.1334],\n",
       "         [-0.8468, -0.1779, -0.8442, -0.8863],\n",
       "         [-0.3193, -0.4655, -0.3222, -0.3551]]))"
      ]
     },
     "execution_count": 13,
     "metadata": {},
     "output_type": "execute_result"
    }
   ],
   "source": [
    "#subtaction\n",
    "tensor - 1, torch.subtract(tensor,1), tensor.subtract(1)"
   ]
  },
  {
   "cell_type": "code",
   "execution_count": 14,
   "id": "bf2982e5-d070-4432-903c-b54fb277421c",
   "metadata": {},
   "outputs": [
    {
     "data": {
      "text/plain": [
       "(tensor([[0.5911, 1.5586, 0.4820, 2.9727],\n",
       "         [0.8949, 0.9038, 2.1066, 2.5998],\n",
       "         [0.4596, 2.4662, 0.4673, 0.3410],\n",
       "         [2.0422, 1.6035, 2.0335, 1.9348]]),\n",
       " tensor([[0.5911, 1.5586, 0.4820, 2.9727],\n",
       "         [0.8949, 0.9038, 2.1066, 2.5998],\n",
       "         [0.4596, 2.4662, 0.4673, 0.3410],\n",
       "         [2.0422, 1.6035, 2.0335, 1.9348]]),\n",
       " tensor([[0.5911, 1.5586, 0.4820, 2.9727],\n",
       "         [0.8949, 0.9038, 2.1066, 2.5998],\n",
       "         [0.4596, 2.4662, 0.4673, 0.3410],\n",
       "         [2.0422, 1.6035, 2.0335, 1.9348]]))"
      ]
     },
     "execution_count": 14,
     "metadata": {},
     "output_type": "execute_result"
    }
   ],
   "source": [
    "# Element wise multiplication\n",
    "tensor * 3, torch.mul(tensor,3), tensor.mul(3)"
   ]
  },
  {
   "cell_type": "code",
   "execution_count": 15,
   "id": "c8f650fa-ebbd-427a-b77f-a2a7eb935a13",
   "metadata": {},
   "outputs": [
    {
     "data": {
      "text/plain": [
       "(tensor([[0.0985, 0.2598, 0.0803, 0.4955],\n",
       "         [0.1491, 0.1506, 0.3511, 0.4333],\n",
       "         [0.0766, 0.4110, 0.0779, 0.0568],\n",
       "         [0.3404, 0.2672, 0.3389, 0.3225]]),\n",
       " tensor([[0.0985, 0.2598, 0.0803, 0.4955],\n",
       "         [0.1491, 0.1506, 0.3511, 0.4333],\n",
       "         [0.0766, 0.4110, 0.0779, 0.0568],\n",
       "         [0.3404, 0.2672, 0.3389, 0.3225]]),\n",
       " tensor([[0.0985, 0.2598, 0.0803, 0.4955],\n",
       "         [0.1491, 0.1506, 0.3511, 0.4333],\n",
       "         [0.0766, 0.4110, 0.0779, 0.0568],\n",
       "         [0.3404, 0.2672, 0.3389, 0.3225]]))"
      ]
     },
     "execution_count": 15,
     "metadata": {},
     "output_type": "execute_result"
    }
   ],
   "source": [
    "# Division\n",
    "tensor / 2, torch.divide(tensor, 2), tensor.divide(2)"
   ]
  },
  {
   "cell_type": "markdown",
   "id": "6182d36c-1fdb-498c-9c63-28d06bf002ac",
   "metadata": {},
   "source": [
    "### Matrix multiplication (Multiplying Tensors)\n",
    "##### Dot product\n",
    "Rules of matric multiplication\n",
    "* The inner dimention of two tensors must be same\n",
    "    - `(3,2) * (3,4)` won't work\n",
    "    - `(3,2) * (2,4)` will work\n",
    "* The dimention of the result will be same as the outer dimentions of the operant matrices\n",
    "    - `(3,2) * (4,2)` will result the matrix with the shape of `(2,4)`\n",
    "    - `(2) * (2)` will result the matrix with the shape of `(1)` ( matmul(scalar, scalar ) == scalar )"
   ]
  },
  {
   "cell_type": "code",
   "execution_count": 16,
   "id": "9ec99ef6-020a-42e7-ba4f-5eac15b3b0ff",
   "metadata": {},
   "outputs": [
    {
     "data": {
      "text/plain": [
       "(tensor([[0.6320, 0.9773, 0.8344, 0.5355, 0.8302, 1.4864],\n",
       "         [0.8670, 1.1040, 0.8497, 0.7526, 0.9519, 1.8809],\n",
       "         [0.3122, 0.5286, 0.7825, 0.5761, 0.3736, 0.8121],\n",
       "         [1.0359, 1.2054, 1.0697, 1.0435, 1.0150, 2.1295]]),\n",
       " tensor([[0.6320, 0.9773, 0.8344, 0.5355, 0.8302, 1.4864],\n",
       "         [0.8670, 1.1040, 0.8497, 0.7526, 0.9519, 1.8809],\n",
       "         [0.3122, 0.5286, 0.7825, 0.5761, 0.3736, 0.8121],\n",
       "         [1.0359, 1.2054, 1.0697, 1.0435, 1.0150, 2.1295]]),\n",
       " tensor([[0.6320, 0.9773, 0.8344, 0.5355, 0.8302, 1.4864],\n",
       "         [0.8670, 1.1040, 0.8497, 0.7526, 0.9519, 1.8809],\n",
       "         [0.3122, 0.5286, 0.7825, 0.5761, 0.3736, 0.8121],\n",
       "         [1.0359, 1.2054, 1.0697, 1.0435, 1.0150, 2.1295]]))"
      ]
     },
     "execution_count": 16,
     "metadata": {},
     "output_type": "execute_result"
    }
   ],
   "source": [
    "# note that the inner dimentions of Tensors \"tensor\" and \"tensor2\"\n",
    "tensor2 = torch.rand([4,6])\n",
    "tensor @ tensor2, torch.matmul(tensor,tensor2), tensor.matmul(tensor2)"
   ]
  },
  {
   "cell_type": "markdown",
   "id": "ede6e1b2-1f22-4b40-9da2-ed18cc1ec35e",
   "metadata": {},
   "source": [
    "#### Difference between Pytorch functions and hardcoded function"
   ]
  },
  {
   "cell_type": "code",
   "execution_count": 17,
   "id": "176fb5c4-d7d4-4141-aa55-213c7c26fab9",
   "metadata": {},
   "outputs": [
    {
     "name": "stdout",
     "output_type": "stream",
     "text": [
      "CPU times: user 3 μs, sys: 1 μs, total: 4 μs\n",
      "Wall time: 7.39 μs\n"
     ]
    },
    {
     "data": {
      "text/plain": [
       "tensor([[0.6320, 0.9773, 0.8344, 0.5355, 0.8302, 1.4864],\n",
       "        [0.8670, 1.1040, 0.8497, 0.7526, 0.9519, 1.8809],\n",
       "        [0.3122, 0.5286, 0.7825, 0.5761, 0.3736, 0.8121],\n",
       "        [1.0359, 1.2054, 1.0697, 1.0435, 1.0150, 2.1295]])"
      ]
     },
     "execution_count": 17,
     "metadata": {},
     "output_type": "execute_result"
    }
   ],
   "source": [
    "%time\n",
    "torch.matmul(tensor,tensor2)"
   ]
  },
  {
   "cell_type": "markdown",
   "id": "b9b2f355-9fb8-426b-914a-0145b81963e0",
   "metadata": {},
   "source": [
    "##### Transpose of a matirx\n",
    "Transpose will interchange coloums and rows \\\n",
    "`tensor([2,3]).T ==> tensor([3,2])`\n",
    "* the transpose can be used to fix the shape note"
   ]
  },
  {
   "cell_type": "code",
   "execution_count": 20,
   "id": "11dfb03c-1203-4204-a9d1-1280d00981a8",
   "metadata": {},
   "outputs": [
    {
     "data": {
      "text/plain": [
       "(tensor([[1, 2, 3],\n",
       "         [4, 5, 6]]),\n",
       " torch.Size([2, 3]))"
      ]
     },
     "execution_count": 20,
     "metadata": {},
     "output_type": "execute_result"
    }
   ],
   "source": [
    "t1 = torch.tensor([[1,2,3,],\n",
    "                   [4,5,6]])\n",
    "t1,t1.shape"
   ]
  },
  {
   "cell_type": "code",
   "execution_count": 23,
   "id": "418fd5c2-5fe0-405c-a2d8-c3db37a308fd",
   "metadata": {},
   "outputs": [
    {
     "data": {
      "text/plain": [
       "tensor([[1, 4],\n",
       "        [2, 5],\n",
       "        [3, 6]])"
      ]
     },
     "execution_count": 23,
     "metadata": {},
     "output_type": "execute_result"
    }
   ],
   "source": [
    "# transpose of the matrix t1\n",
    "t1.T"
   ]
  },
  {
   "cell_type": "code",
   "execution_count": 24,
   "id": "0ccb56d6-2885-4c5b-b606-680194d72683",
   "metadata": {},
   "outputs": [
    {
     "data": {
      "text/plain": [
       "tensor([[1, 2, 3],\n",
       "        [4, 5, 6]])"
      ]
     },
     "execution_count": 24,
     "metadata": {},
     "output_type": "execute_result"
    }
   ],
   "source": []
  },
  {
   "cell_type": "code",
   "execution_count": null,
   "id": "89258bee-0ebc-4d69-958e-03227fb7ee3f",
   "metadata": {},
   "outputs": [],
   "source": []
  }
 ],
 "metadata": {
  "kernelspec": {
   "display_name": "Python 3 (ipykernel)",
   "language": "python",
   "name": "python3"
  },
  "language_info": {
   "codemirror_mode": {
    "name": "ipython",
    "version": 3
   },
   "file_extension": ".py",
   "mimetype": "text/x-python",
   "name": "python",
   "nbconvert_exporter": "python",
   "pygments_lexer": "ipython3",
   "version": "3.10.12"
  }
 },
 "nbformat": 4,
 "nbformat_minor": 5
}
