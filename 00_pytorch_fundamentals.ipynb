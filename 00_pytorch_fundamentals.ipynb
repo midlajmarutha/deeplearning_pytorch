{
 "cells": [
  {
   "cell_type": "code",
   "execution_count": 2,
   "id": "ae0579b2-8519-4b21-968d-4c0259de3b10",
   "metadata": {},
   "outputs": [],
   "source": [
    "import torch"
   ]
  },
  {
   "cell_type": "markdown",
   "id": "0687cfb1-8546-495e-95b1-145eeee58aeb",
   "metadata": {},
   "source": [
    "### First Tensor\n",
    "Creating tensors with different dimentions using pytorch"
   ]
  },
  {
   "cell_type": "code",
   "execution_count": 3,
   "id": "5abc0a1e-d035-4ef4-bb06-67bda6441d10",
   "metadata": {},
   "outputs": [
    {
     "name": "stdout",
     "output_type": "stream",
     "text": [
      "torch.Size([7])\n"
     ]
    },
    {
     "data": {
      "text/plain": [
       "tensor([[0.4400, 0.8386, 0.1807, 0.0321, 0.5671],\n",
       "        [0.8514, 0.9981, 0.2854, 0.5818, 0.4434],\n",
       "        [0.2421, 0.2100, 0.8544, 0.1743, 0.5291],\n",
       "        [0.1240, 0.5313, 0.7624, 0.0385, 0.7460]])"
      ]
     },
     "execution_count": 3,
     "metadata": {},
     "output_type": "execute_result"
    }
   ],
   "source": [
    "tensor = torch.tensor(5) # scalar\n",
    "\n",
    "# 1 dimentional tensor\n",
    "tensor1 = torch.tensor([3,2,5,6,3,6,3])  # vector \n",
    "print(tensor1.shape)\n",
    "\n",
    "# 2 dimentional tensor\n",
    "# matrix\n",
    "tensor2 = torch.tensor([[1,2,3,4,5],\n",
    "                        [6,7,8,9,0]])\n",
    "\n",
    "# [4,5] tensor with random elements; rand(dim) method creates ramdom tensor with given dimention \n",
    "random_tensor = torch.rand([4,5])\n",
    "random_tensor"
   ]
  },
  {
   "cell_type": "code",
   "execution_count": 4,
   "id": "a69fa031-6b37-45eb-b05c-08da72077b12",
   "metadata": {},
   "outputs": [
    {
     "data": {
      "text/plain": [
       "tensor([1, 3, 5, 7, 9])"
      ]
     },
     "execution_count": 4,
     "metadata": {},
     "output_type": "execute_result"
    }
   ],
   "source": [
    "torch.arange(1,10,2)"
   ]
  },
  {
   "cell_type": "code",
   "execution_count": 5,
   "id": "b0fa265f-bba9-4a8e-b358-2f57f4667fab",
   "metadata": {},
   "outputs": [
    {
     "data": {
      "text/plain": [
       "torch.Size([7])"
      ]
     },
     "execution_count": 5,
     "metadata": {},
     "output_type": "execute_result"
    }
   ],
   "source": [
    "# shape of the tensor\n",
    "tensor1.shape\n",
    "# OR\n",
    "tensor1.size()"
   ]
  },
  {
   "cell_type": "markdown",
   "id": "c0193b15-f754-49ed-9b28-62c4a0514ff2",
   "metadata": {},
   "source": [
    "### Tensor Datatypes\n",
    "\n",
    "Tensors can have many datatype such as float16, float32, int32, int16 etc.\n",
    "tensor.dtype contain data type of the tensor"
   ]
  },
  {
   "cell_type": "code",
   "execution_count": 6,
   "id": "72cd6415-76e0-4f3a-aeb3-5618ad1c403f",
   "metadata": {},
   "outputs": [
    {
     "data": {
      "text/plain": [
       "torch.float32"
      ]
     },
     "execution_count": 6,
     "metadata": {},
     "output_type": "execute_result"
    }
   ],
   "source": [
    "# tensor.dtype contain data type of the tensor\n",
    "random_tensor.dtype"
   ]
  },
  {
   "cell_type": "code",
   "execution_count": 7,
   "id": "3917e7fb-d3ba-4725-b894-d1722f737f17",
   "metadata": {},
   "outputs": [
    {
     "data": {
      "text/plain": [
       "torch.float16"
      ]
     },
     "execution_count": 7,
     "metadata": {},
     "output_type": "execute_result"
    }
   ],
   "source": [
    "# changing type of a tensor: type()\n",
    "f16tensor = random_tensor.type(torch.float16)\n",
    "f16tensor.dtype"
   ]
  },
  {
   "cell_type": "markdown",
   "id": "3c2f7a50-623d-4502-861b-ba790124d4d7",
   "metadata": {},
   "source": [
    "### Tensor aggregation\n",
    "finding min, max, sum, mean etc of a tensor"
   ]
  },
  {
   "cell_type": "code",
   "execution_count": 8,
   "id": "27c46c46-ea47-4812-b087-cbffdda2c669",
   "metadata": {},
   "outputs": [
    {
     "data": {
      "text/plain": [
       "(tensor(1), tensor(8))"
      ]
     },
     "execution_count": 8,
     "metadata": {},
     "output_type": "execute_result"
    }
   ],
   "source": [
    "x = torch.tensor([1,2,3,4,5,6,7,8])\n",
    "\n",
    "# finding min and max of the tensor x\n",
    "torch.min(x), torch.max(x)\n",
    "# OR\n",
    "x.min(),x.max()"
   ]
  },
  {
   "cell_type": "code",
   "execution_count": 9,
   "id": "8e8d600a-546b-4f78-a9a2-89f26aac2874",
   "metadata": {},
   "outputs": [
    {
     "data": {
      "text/plain": [
       "(tensor(36), tensor(36))"
      ]
     },
     "execution_count": 9,
     "metadata": {},
     "output_type": "execute_result"
    }
   ],
   "source": [
    "#finding sum of the tensor\n",
    "torch.sum(x), x.sum()"
   ]
  },
  {
   "cell_type": "code",
   "execution_count": 10,
   "id": "429a2a38-6c79-4d4f-9e0b-20278311bf39",
   "metadata": {},
   "outputs": [
    {
     "data": {
      "text/plain": [
       "(tensor(4.5000), tensor(4.5000))"
      ]
     },
     "execution_count": 10,
     "metadata": {},
     "output_type": "execute_result"
    }
   ],
   "source": [
    "# finding the mean of the tensor x\n",
    "# to find the mean, the tensor have to be floating point or complex dtype\n",
    "# x.mean() or torch.mean(x) don't work, because dtype of tensor x in int64 (long)\n",
    "x = x.type(torch.float32)\n",
    "x.mean(), torch.mean(x)"
   ]
  },
  {
   "cell_type": "code",
   "execution_count": 11,
   "id": "721f5e70-1720-4e5c-85f4-b0fd2df9bb38",
   "metadata": {},
   "outputs": [
    {
     "data": {
      "text/plain": [
       "(tensor(0), tensor(7))"
      ]
     },
     "execution_count": 11,
     "metadata": {},
     "output_type": "execute_result"
    }
   ],
   "source": [
    "# finding positional min and max (position of the min and max elment in the tensor)\n",
    "\n",
    "x.argmin(), x.argmax()"
   ]
  },
  {
   "cell_type": "markdown",
   "id": "cb6a6d89-4d7c-4d66-9a0b-45d935eea940",
   "metadata": {},
   "source": [
    "### Manipulating tensors (Tensor operations)\n",
    "\n",
    "Tensor operations:\n",
    "* Addition\n",
    "* Subtraction\n",
    "* Multiplication (element wise)\n",
    "* Division\n",
    "* Matix Multiplication"
   ]
  },
  {
   "cell_type": "code",
   "execution_count": 12,
   "id": "c0debb9d-1b77-45e4-8eab-2adcf65420c6",
   "metadata": {},
   "outputs": [
    {
     "data": {
      "text/plain": [
       "tensor([[0.7900, 0.2408, 0.3314, 0.7792],\n",
       "        [0.2433, 0.7439, 0.3045, 0.8155],\n",
       "        [0.6464, 0.1051, 0.9808, 0.6916],\n",
       "        [0.8134, 0.0554, 0.7316, 0.9367]])"
      ]
     },
     "execution_count": 12,
     "metadata": {},
     "output_type": "execute_result"
    }
   ],
   "source": [
    "tensor = torch.rand([4,4])\n",
    "tensor"
   ]
  },
  {
   "cell_type": "code",
   "execution_count": 13,
   "id": "dca057ba-177b-4a51-8f72-b9dcab4afbcb",
   "metadata": {},
   "outputs": [
    {
     "data": {
      "text/plain": [
       "(tensor([[1.7900, 1.2408, 1.3314, 1.7792],\n",
       "         [1.2433, 1.7439, 1.3045, 1.8155],\n",
       "         [1.6464, 1.1051, 1.9808, 1.6916],\n",
       "         [1.8134, 1.0554, 1.7316, 1.9367]]),\n",
       " tensor([[1.7900, 1.2408, 1.3314, 1.7792],\n",
       "         [1.2433, 1.7439, 1.3045, 1.8155],\n",
       "         [1.6464, 1.1051, 1.9808, 1.6916],\n",
       "         [1.8134, 1.0554, 1.7316, 1.9367]]),\n",
       " tensor([[1.7900, 1.2408, 1.3314, 1.7792],\n",
       "         [1.2433, 1.7439, 1.3045, 1.8155],\n",
       "         [1.6464, 1.1051, 1.9808, 1.6916],\n",
       "         [1.8134, 1.0554, 1.7316, 1.9367]]))"
      ]
     },
     "execution_count": 13,
     "metadata": {},
     "output_type": "execute_result"
    }
   ],
   "source": [
    "# Addition\n",
    "tensor + 1, torch.add(tensor,1), tensor.add(1)"
   ]
  },
  {
   "cell_type": "code",
   "execution_count": 14,
   "id": "a339ce8e-773a-4bf6-ae37-e388141bcd92",
   "metadata": {},
   "outputs": [
    {
     "data": {
      "text/plain": [
       "(tensor([[-0.2100, -0.7592, -0.6686, -0.2208],\n",
       "         [-0.7567, -0.2561, -0.6955, -0.1845],\n",
       "         [-0.3536, -0.8949, -0.0192, -0.3084],\n",
       "         [-0.1866, -0.9446, -0.2684, -0.0633]]),\n",
       " tensor([[-0.2100, -0.7592, -0.6686, -0.2208],\n",
       "         [-0.7567, -0.2561, -0.6955, -0.1845],\n",
       "         [-0.3536, -0.8949, -0.0192, -0.3084],\n",
       "         [-0.1866, -0.9446, -0.2684, -0.0633]]),\n",
       " tensor([[-0.2100, -0.7592, -0.6686, -0.2208],\n",
       "         [-0.7567, -0.2561, -0.6955, -0.1845],\n",
       "         [-0.3536, -0.8949, -0.0192, -0.3084],\n",
       "         [-0.1866, -0.9446, -0.2684, -0.0633]]))"
      ]
     },
     "execution_count": 14,
     "metadata": {},
     "output_type": "execute_result"
    }
   ],
   "source": [
    "#subtaction\n",
    "tensor - 1, torch.subtract(tensor,1), tensor.subtract(1)"
   ]
  },
  {
   "cell_type": "code",
   "execution_count": 15,
   "id": "bf2982e5-d070-4432-903c-b54fb277421c",
   "metadata": {},
   "outputs": [
    {
     "data": {
      "text/plain": [
       "(tensor([[2.3700, 0.7223, 0.9942, 2.3377],\n",
       "         [0.7299, 2.2317, 0.9136, 2.4464],\n",
       "         [1.9391, 0.3154, 2.9425, 2.0748],\n",
       "         [2.4401, 0.1661, 2.1947, 2.8102]]),\n",
       " tensor([[2.3700, 0.7223, 0.9942, 2.3377],\n",
       "         [0.7299, 2.2317, 0.9136, 2.4464],\n",
       "         [1.9391, 0.3154, 2.9425, 2.0748],\n",
       "         [2.4401, 0.1661, 2.1947, 2.8102]]),\n",
       " tensor([[2.3700, 0.7223, 0.9942, 2.3377],\n",
       "         [0.7299, 2.2317, 0.9136, 2.4464],\n",
       "         [1.9391, 0.3154, 2.9425, 2.0748],\n",
       "         [2.4401, 0.1661, 2.1947, 2.8102]]))"
      ]
     },
     "execution_count": 15,
     "metadata": {},
     "output_type": "execute_result"
    }
   ],
   "source": [
    "# Element wise multiplication\n",
    "tensor * 3, torch.mul(tensor,3), tensor.mul(3)"
   ]
  },
  {
   "cell_type": "code",
   "execution_count": 16,
   "id": "c8f650fa-ebbd-427a-b77f-a2a7eb935a13",
   "metadata": {},
   "outputs": [
    {
     "data": {
      "text/plain": [
       "(tensor([[0.3950, 0.1204, 0.1657, 0.3896],\n",
       "         [0.1216, 0.3720, 0.1523, 0.4077],\n",
       "         [0.3232, 0.0526, 0.4904, 0.3458],\n",
       "         [0.4067, 0.0277, 0.3658, 0.4684]]),\n",
       " tensor([[0.3950, 0.1204, 0.1657, 0.3896],\n",
       "         [0.1216, 0.3720, 0.1523, 0.4077],\n",
       "         [0.3232, 0.0526, 0.4904, 0.3458],\n",
       "         [0.4067, 0.0277, 0.3658, 0.4684]]),\n",
       " tensor([[0.3950, 0.1204, 0.1657, 0.3896],\n",
       "         [0.1216, 0.3720, 0.1523, 0.4077],\n",
       "         [0.3232, 0.0526, 0.4904, 0.3458],\n",
       "         [0.4067, 0.0277, 0.3658, 0.4684]]))"
      ]
     },
     "execution_count": 16,
     "metadata": {},
     "output_type": "execute_result"
    }
   ],
   "source": [
    "# Division\n",
    "tensor / 2, torch.divide(tensor, 2), tensor.divide(2)"
   ]
  },
  {
   "cell_type": "markdown",
   "id": "6182d36c-1fdb-498c-9c63-28d06bf002ac",
   "metadata": {},
   "source": [
    "### Matrix multiplication (Multiplying Tensors)\n",
    "##### Dot product\n",
    "Rules of matric multiplication\n",
    "* The inner dimention of two tensors must be same\n",
    "    - `(3,2) * (3,4)` won't work\n",
    "    - `(3,2) * (2,4)` will work\n",
    "* The dimention of the result will be same as the outer dimentions of the operant matrices\n",
    "    - `(3,2) * (4,2)` will result the matrix with the shape of `(2,4)`\n",
    "    - `(2) * (2)` will result the matrix with the shape of `(1)` ( matmul(scalar, scalar ) == scalar )"
   ]
  },
  {
   "cell_type": "code",
   "execution_count": 17,
   "id": "9ec99ef6-020a-42e7-ba4f-5eac15b3b0ff",
   "metadata": {},
   "outputs": [
    {
     "data": {
      "text/plain": [
       "(tensor([[1.1925, 0.4575, 0.8683, 0.3645, 0.7613, 0.8851],\n",
       "         [0.9553, 0.5252, 0.5632, 0.3227, 0.8478, 0.5372],\n",
       "         [1.1245, 0.6102, 0.9532, 0.6886, 1.2106, 0.8714],\n",
       "         [1.2928, 0.5507, 1.0687, 0.5979, 1.1051, 1.0017]]),\n",
       " tensor([[1.1925, 0.4575, 0.8683, 0.3645, 0.7613, 0.8851],\n",
       "         [0.9553, 0.5252, 0.5632, 0.3227, 0.8478, 0.5372],\n",
       "         [1.1245, 0.6102, 0.9532, 0.6886, 1.2106, 0.8714],\n",
       "         [1.2928, 0.5507, 1.0687, 0.5979, 1.1051, 1.0017]]),\n",
       " tensor([[1.1925, 0.4575, 0.8683, 0.3645, 0.7613, 0.8851],\n",
       "         [0.9553, 0.5252, 0.5632, 0.3227, 0.8478, 0.5372],\n",
       "         [1.1245, 0.6102, 0.9532, 0.6886, 1.2106, 0.8714],\n",
       "         [1.2928, 0.5507, 1.0687, 0.5979, 1.1051, 1.0017]]))"
      ]
     },
     "execution_count": 17,
     "metadata": {},
     "output_type": "execute_result"
    }
   ],
   "source": [
    "# note that the inner dimentions of Tensors \"tensor\" and \"tensor2\"\n",
    "tensor2 = torch.rand([4,6])\n",
    "tensor @ tensor2, torch.matmul(tensor,tensor2), tensor.matmul(tensor2)"
   ]
  },
  {
   "cell_type": "markdown",
   "id": "ede6e1b2-1f22-4b40-9da2-ed18cc1ec35e",
   "metadata": {},
   "source": [
    "#### Difference between Pytorch functions and hardcoded function"
   ]
  },
  {
   "cell_type": "code",
   "execution_count": 18,
   "id": "176fb5c4-d7d4-4141-aa55-213c7c26fab9",
   "metadata": {},
   "outputs": [
    {
     "name": "stdout",
     "output_type": "stream",
     "text": [
      "CPU times: user 3 μs, sys: 0 ns, total: 3 μs\n",
      "Wall time: 6.68 μs\n"
     ]
    },
    {
     "data": {
      "text/plain": [
       "tensor([[1.1925, 0.4575, 0.8683, 0.3645, 0.7613, 0.8851],\n",
       "        [0.9553, 0.5252, 0.5632, 0.3227, 0.8478, 0.5372],\n",
       "        [1.1245, 0.6102, 0.9532, 0.6886, 1.2106, 0.8714],\n",
       "        [1.2928, 0.5507, 1.0687, 0.5979, 1.1051, 1.0017]])"
      ]
     },
     "execution_count": 18,
     "metadata": {},
     "output_type": "execute_result"
    }
   ],
   "source": [
    "%time\n",
    "torch.matmul(tensor,tensor2)"
   ]
  },
  {
   "cell_type": "markdown",
   "id": "b9b2f355-9fb8-426b-914a-0145b81963e0",
   "metadata": {},
   "source": [
    "##### Transpose of a matirx\n",
    "Transpose will interchange coloums and rows \\\n",
    "`tensor([2,3]).T ==> tensor([3,2])`\n",
    "* the transpose can be used to fix the shape not mach problems in matrix multiplication"
   ]
  },
  {
   "cell_type": "code",
   "execution_count": 19,
   "id": "11dfb03c-1203-4204-a9d1-1280d00981a8",
   "metadata": {},
   "outputs": [
    {
     "data": {
      "text/plain": [
       "(tensor([[1, 2, 3],\n",
       "         [4, 5, 6]]),\n",
       " torch.Size([2, 3]))"
      ]
     },
     "execution_count": 19,
     "metadata": {},
     "output_type": "execute_result"
    }
   ],
   "source": [
    "t1 = torch.tensor([[1,2,3,],\n",
    "                   [4,5,6]])\n",
    "t1,t1.shape"
   ]
  },
  {
   "cell_type": "code",
   "execution_count": 20,
   "id": "418fd5c2-5fe0-405c-a2d8-c3db37a308fd",
   "metadata": {},
   "outputs": [
    {
     "data": {
      "text/plain": [
       "tensor([[1, 4],\n",
       "        [2, 5],\n",
       "        [3, 6]])"
      ]
     },
     "execution_count": 20,
     "metadata": {},
     "output_type": "execute_result"
    }
   ],
   "source": [
    "# transpose of the matrix t1\n",
    "t1.T"
   ]
  },
  {
   "cell_type": "markdown",
   "id": "50715d0c-484f-435d-88ac-1b120ebfd0e4",
   "metadata": {},
   "source": [
    "### Reshaping, Stacking, Squeezing, Unsqueezing\n",
    "* Reshaping - Reshapes input tensor to a difined shape\n",
    "* View - Returns a view of the tensor of cirtain shape but keep the memory as the original tensor\n",
    "* Stacking - Combines multiple tensors on top of eachother (vstack) or side-by-side (hstack)\n",
    "* Squeezing - Removes all `1` dimentions from the tensor\n",
    "* Unsqueezing - Adds a `1` dimentions to the tensor\n",
    "* Permute - Return a view of the input tensor with dimentions permuted"
   ]
  },
  {
   "cell_type": "code",
   "execution_count": 21,
   "id": "89258bee-0ebc-4d69-958e-03227fb7ee3f",
   "metadata": {},
   "outputs": [
    {
     "data": {
      "text/plain": [
       "torch.Size([9])"
      ]
     },
     "execution_count": 21,
     "metadata": {},
     "output_type": "execute_result"
    }
   ],
   "source": [
    "x = torch.arange(1,10)\n",
    "x.shape"
   ]
  },
  {
   "cell_type": "code",
   "execution_count": 22,
   "id": "6653b98d-4082-47df-9ba6-22d4823d3f00",
   "metadata": {},
   "outputs": [
    {
     "data": {
      "text/plain": [
       "tensor([[1, 2, 3, 4, 5, 6, 7, 8, 9]])"
      ]
     },
     "execution_count": 22,
     "metadata": {},
     "output_type": "execute_result"
    }
   ],
   "source": [
    "x_reshaped = x.reshape([1,9])\n",
    "x_reshaped"
   ]
  },
  {
   "cell_type": "code",
   "execution_count": 23,
   "id": "44fff32a-2af4-4d5f-b642-ad81e4fff467",
   "metadata": {},
   "outputs": [
    {
     "data": {
      "text/plain": [
       "tensor([[1, 2, 3],\n",
       "        [4, 5, 6],\n",
       "        [7, 8, 9]])"
      ]
     },
     "execution_count": 23,
     "metadata": {},
     "output_type": "execute_result"
    }
   ],
   "source": [
    "x_reshaped = x.reshape([3,3])\n",
    "x_reshaped"
   ]
  },
  {
   "cell_type": "code",
   "execution_count": 24,
   "id": "9f7d7d3b-b01f-492a-b081-a876cfaf27ba",
   "metadata": {},
   "outputs": [
    {
     "data": {
      "text/plain": [
       "tensor([[1, 2, 3],\n",
       "        [4, 5, 6],\n",
       "        [7, 8, 9]])"
      ]
     },
     "execution_count": 24,
     "metadata": {},
     "output_type": "execute_result"
    }
   ],
   "source": [
    "x_view = x.view(3,3)\n",
    "x_view"
   ]
  },
  {
   "cell_type": "code",
   "execution_count": 25,
   "id": "23b44b51-c7c7-405d-85c1-de5042f7c225",
   "metadata": {},
   "outputs": [
    {
     "data": {
      "text/plain": [
       "(tensor([[4, 2, 3],\n",
       "         [4, 5, 6],\n",
       "         [4, 8, 9]]),\n",
       " tensor([4, 2, 3, 4, 5, 6, 4, 8, 9]))"
      ]
     },
     "execution_count": 25,
     "metadata": {},
     "output_type": "execute_result"
    }
   ],
   "source": [
    "# changing x_view changes x, because the view share same memory\n",
    "x_view[:,0] = 4\n",
    "x_view, x"
   ]
  },
  {
   "cell_type": "code",
   "execution_count": 26,
   "id": "e28de6ba-01f8-481d-90c7-7fa40fe4707d",
   "metadata": {},
   "outputs": [
    {
     "data": {
      "text/plain": [
       "(tensor([[4, 2, 3, 4, 5, 6, 4, 8, 9],\n",
       "         [4, 2, 3, 4, 5, 6, 4, 8, 9],\n",
       "         [4, 2, 3, 4, 5, 6, 4, 8, 9],\n",
       "         [4, 2, 3, 4, 5, 6, 4, 8, 9]]),\n",
       " tensor([[4, 2, 3, 4, 5, 6, 4, 8, 9],\n",
       "         [4, 2, 3, 4, 5, 6, 4, 8, 9],\n",
       "         [4, 2, 3, 4, 5, 6, 4, 8, 9],\n",
       "         [4, 2, 3, 4, 5, 6, 4, 8, 9]]))"
      ]
     },
     "execution_count": 26,
     "metadata": {},
     "output_type": "execute_result"
    }
   ],
   "source": [
    "# Stack tensors\n",
    "\n",
    "x_stacked = torch.stack([x,x,x,x])\n",
    "x_stacked, torch.vstack([x,x,x,x])"
   ]
  },
  {
   "cell_type": "code",
   "execution_count": 27,
   "id": "82a9b268-2e85-46ad-a710-678ca971905d",
   "metadata": {},
   "outputs": [
    {
     "data": {
      "text/plain": [
       "(tensor([[4, 4, 4, 4],\n",
       "         [2, 2, 2, 2],\n",
       "         [3, 3, 3, 3],\n",
       "         [4, 4, 4, 4],\n",
       "         [5, 5, 5, 5],\n",
       "         [6, 6, 6, 6],\n",
       "         [4, 4, 4, 4],\n",
       "         [8, 8, 8, 8],\n",
       "         [9, 9, 9, 9]]),\n",
       " tensor([4, 2, 3, 4, 5, 6, 4, 8, 9, 4, 2, 3, 4, 5, 6, 4, 8, 9, 4, 2, 3, 4, 5, 6,\n",
       "         4, 8, 9, 4, 2, 3, 4, 5, 6, 4, 8, 9]))"
      ]
     },
     "execution_count": 27,
     "metadata": {},
     "output_type": "execute_result"
    }
   ],
   "source": [
    "x_stacked = torch.stack([x,x,x,x],dim = 1)\n",
    "x_stacked, torch.hstack([x,x,x,x])"
   ]
  },
  {
   "cell_type": "code",
   "execution_count": 28,
   "id": "eed51244-b10a-4769-a5e4-c4e7ab2014e2",
   "metadata": {},
   "outputs": [
    {
     "data": {
      "text/plain": [
       "(torch.Size([1, 1, 9, 1]),\n",
       " tensor([[[[4],\n",
       "           [2],\n",
       "           [3],\n",
       "           [4],\n",
       "           [5],\n",
       "           [6],\n",
       "           [4],\n",
       "           [8],\n",
       "           [9]]]]))"
      ]
     },
     "execution_count": 28,
     "metadata": {},
     "output_type": "execute_result"
    }
   ],
   "source": [
    "# squeezing tensor\n",
    "y = x.reshape([1,1,9,1])\n",
    "y.shape,y"
   ]
  },
  {
   "cell_type": "code",
   "execution_count": 29,
   "id": "58771af8-2202-4993-b84b-17ab2da3c610",
   "metadata": {},
   "outputs": [
    {
     "data": {
      "text/plain": [
       "(tensor([4, 2, 3, 4, 5, 6, 4, 8, 9]), tensor([4, 2, 3, 4, 5, 6, 4, 8, 9]))"
      ]
     },
     "execution_count": 29,
     "metadata": {},
     "output_type": "execute_result"
    }
   ],
   "source": [
    "y_squeezed = y.squeeze()\n",
    "y.squeeze(), torch.squeeze(y)"
   ]
  },
  {
   "cell_type": "code",
   "execution_count": 30,
   "id": "fb1e9326-b89e-4c14-a0d2-e20d32cec3d1",
   "metadata": {},
   "outputs": [
    {
     "data": {
      "text/plain": [
       "tensor([[4, 2, 3, 4, 5, 6, 4, 8, 9]])"
      ]
     },
     "execution_count": 30,
     "metadata": {},
     "output_type": "execute_result"
    }
   ],
   "source": [
    "# Unsqueezing tensor\n",
    "\n",
    "y_squeezed.unsqueeze(dim=0)"
   ]
  },
  {
   "cell_type": "code",
   "execution_count": 31,
   "id": "7e7660c0-785f-4b9f-a44c-6238da75d8cf",
   "metadata": {},
   "outputs": [
    {
     "data": {
      "text/plain": [
       "tensor([[4],\n",
       "        [2],\n",
       "        [3],\n",
       "        [4],\n",
       "        [5],\n",
       "        [6],\n",
       "        [4],\n",
       "        [8],\n",
       "        [9]])"
      ]
     },
     "execution_count": 31,
     "metadata": {},
     "output_type": "execute_result"
    }
   ],
   "source": [
    "y_squeezed.unsqueeze(dim=1)"
   ]
  },
  {
   "cell_type": "code",
   "execution_count": 32,
   "id": "79183614-dd50-4934-a91b-cf104daea0ec",
   "metadata": {},
   "outputs": [
    {
     "data": {
      "text/plain": [
       "(tensor([[[ 1.1173, -0.2673,  0.3051],\n",
       "          [-1.2595,  0.0255,  0.2560],\n",
       "          [ 0.6929,  0.4573, -2.1713],\n",
       "          [-2.0475, -1.4266,  0.4749],\n",
       "          [ 0.0084,  1.3386, -0.6466]],\n",
       " \n",
       "         [[ 0.1160,  0.2101, -1.3020],\n",
       "          [ 0.7636, -0.4723, -1.2646],\n",
       "          [-0.7891,  0.7751,  0.3921],\n",
       "          [ 0.9658,  0.9532,  1.4701],\n",
       "          [ 0.0108, -0.6364, -1.4211]]]),\n",
       " torch.Size([2, 5, 3]))"
      ]
     },
     "execution_count": 32,
     "metadata": {},
     "output_type": "execute_result"
    }
   ],
   "source": [
    "# Permuting tensors (swapping dims of tensors)\n",
    "\n",
    "perm = torch.randn(2,5,3)\n",
    "perm, perm.shape"
   ]
  },
  {
   "cell_type": "code",
   "execution_count": 33,
   "id": "3efd2409-278f-48f3-9891-c5fbf2a62643",
   "metadata": {},
   "outputs": [
    {
     "data": {
      "text/plain": [
       "(tensor([[[ 1.1173, -0.2673,  0.3051],\n",
       "          [ 0.1160,  0.2101, -1.3020]],\n",
       " \n",
       "         [[-1.2595,  0.0255,  0.2560],\n",
       "          [ 0.7636, -0.4723, -1.2646]],\n",
       " \n",
       "         [[ 0.6929,  0.4573, -2.1713],\n",
       "          [-0.7891,  0.7751,  0.3921]],\n",
       " \n",
       "         [[-2.0475, -1.4266,  0.4749],\n",
       "          [ 0.9658,  0.9532,  1.4701]],\n",
       " \n",
       "         [[ 0.0084,  1.3386, -0.6466],\n",
       "          [ 0.0108, -0.6364, -1.4211]]]),\n",
       " torch.Size([5, 2, 3]))"
      ]
     },
     "execution_count": 33,
     "metadata": {},
     "output_type": "execute_result"
    }
   ],
   "source": [
    "torch.permute(perm, [1,0,2]), torch.permute(perm,[1,0,2]).shape"
   ]
  },
  {
   "cell_type": "markdown",
   "id": "b78abb38-3e86-44a8-9e42-8ab68852a6c2",
   "metadata": {},
   "source": [
    "### Pytorch and Numpy\n",
    "* pytorch tensor -> numpy array `torch.Tensor.numpy()`\n",
    "* numpy array -> pytorch tensor `torch.from_numpy(ndarray)`"
   ]
  },
  {
   "cell_type": "code",
   "execution_count": 34,
   "id": "df3ca6e5-c116-4dfb-914c-0d8a7da64bf3",
   "metadata": {},
   "outputs": [],
   "source": [
    "import numpy as np"
   ]
  },
  {
   "cell_type": "code",
   "execution_count": 35,
   "id": "41f8ec19-36d5-44a5-a5b1-8da99d427682",
   "metadata": {},
   "outputs": [
    {
     "data": {
      "text/plain": [
       "tensor([1, 2, 3, 4, 5, 6, 7, 8, 9])"
      ]
     },
     "execution_count": 35,
     "metadata": {},
     "output_type": "execute_result"
    }
   ],
   "source": [
    "# np array to tensor\n",
    "np_arr = np.arange(1,10)\n",
    "np_to_tensor = torch.from_numpy(np_arr)\n",
    "np_to_tensor"
   ]
  },
  {
   "cell_type": "code",
   "execution_count": 36,
   "id": "517d2053-22e8-4e21-ae69-607b8b053fe2",
   "metadata": {},
   "outputs": [
    {
     "data": {
      "text/plain": [
       "array([1, 2, 3, 4, 5, 6, 7, 8, 9])"
      ]
     },
     "execution_count": 36,
     "metadata": {},
     "output_type": "execute_result"
    }
   ],
   "source": [
    "# tensor to np array\\\n",
    "p_tensor = torch.arange(1,10)\n",
    "tensor_to_arr = torch.Tensor.numpy(p_tensor)\n",
    "tensor_to_arr"
   ]
  },
  {
   "cell_type": "markdown",
   "id": "3772a398-5ef4-4e67-bdc0-2aad102e3ab5",
   "metadata": {},
   "source": [
    "### Reproduciblity of randomness\n",
    "To reduce randomness, we use random seed.\n",
    "\n",
    "random seed flavours randomness"
   ]
  },
  {
   "cell_type": "code",
   "execution_count": 37,
   "id": "e08344f1-026f-4f36-a761-a4089af03787",
   "metadata": {},
   "outputs": [
    {
     "name": "stdout",
     "output_type": "stream",
     "text": [
      "tensor([[0.8823, 0.9150, 0.3829, 0.9593],\n",
      "        [0.3904, 0.6009, 0.2566, 0.7936],\n",
      "        [0.9408, 0.1332, 0.9346, 0.5936]])\n",
      "tensor([[0.8823, 0.9150, 0.3829, 0.9593],\n",
      "        [0.3904, 0.6009, 0.2566, 0.7936],\n",
      "        [0.9408, 0.1332, 0.9346, 0.5936]])\n",
      "tensor([[True, True, True, True],\n",
      "        [True, True, True, True],\n",
      "        [True, True, True, True]])\n"
     ]
    }
   ],
   "source": [
    "RANDOM_SEED = 42\n",
    "torch.manual_seed(RANDOM_SEED)\n",
    "random_tensor_A = torch.rand(3,4)\n",
    "torch.manual_seed(RANDOM_SEED)\n",
    "random_tensor_B = torch.rand(3,4)\n",
    "\n",
    "print(random_tensor_A)\n",
    "print(random_tensor_B)\n",
    "print(random_tensor_A == random_tensor_B)"
   ]
  },
  {
   "cell_type": "markdown",
   "id": "82010f25-1135-4617-b0ab-fb928f47380a",
   "metadata": {},
   "source": [
    "### Tensors on GPU"
   ]
  },
  {
   "cell_type": "code",
   "execution_count": 39,
   "id": "cba4af2b-1776-4f86-9034-8a027404c83d",
   "metadata": {},
   "outputs": [
    {
     "data": {
      "text/plain": [
       "False"
      ]
     },
     "execution_count": 39,
     "metadata": {},
     "output_type": "execute_result"
    }
   ],
   "source": [
    "torch.cuda.is_available()"
   ]
  },
  {
   "cell_type": "code",
   "execution_count": 40,
   "id": "e8e2ee6d-221d-45d4-bb1c-60a9d1f98b7a",
   "metadata": {},
   "outputs": [
    {
     "data": {
      "text/plain": [
       "0"
      ]
     },
     "execution_count": 40,
     "metadata": {},
     "output_type": "execute_result"
    }
   ],
   "source": [
    "torch.cuda.device_count()"
   ]
  },
  {
   "cell_type": "code",
   "execution_count": 41,
   "id": "5c9b4605-a5bf-412d-95ce-dbdae7f5a27c",
   "metadata": {},
   "outputs": [
    {
     "data": {
      "text/plain": [
       "'cpu'"
      ]
     },
     "execution_count": 41,
     "metadata": {},
     "output_type": "execute_result"
    }
   ],
   "source": [
    "device = \"cuda\" if torch.cuda.is_available() else \"cpu\"\n",
    "device"
   ]
  },
  {
   "cell_type": "code",
   "execution_count": 42,
   "id": "4870be80-2310-46ca-9640-4dff43eeb1e1",
   "metadata": {},
   "outputs": [
    {
     "data": {
      "text/plain": [
       "device(type='cpu')"
      ]
     },
     "execution_count": 42,
     "metadata": {},
     "output_type": "execute_result"
    }
   ],
   "source": [
    "tensor = torch.tensor([1,2,3,4])\n",
    "tensor.device"
   ]
  },
  {
   "cell_type": "code",
   "execution_count": 43,
   "id": "5c35d71e-adc5-4b99-a987-dd7ad2231b05",
   "metadata": {},
   "outputs": [
    {
     "data": {
      "text/plain": [
       "device(type='cpu')"
      ]
     },
     "execution_count": 43,
     "metadata": {},
     "output_type": "execute_result"
    }
   ],
   "source": [
    "tensor_GPU = tensor.to(device)\n",
    "tensor_GPU.device"
   ]
  },
  {
   "cell_type": "code",
   "execution_count": 44,
   "id": "b416dda3-4bc2-4bf7-b5aa-d59a89fce86e",
   "metadata": {},
   "outputs": [
    {
     "data": {
      "text/plain": [
       "device(type='cpu')"
      ]
     },
     "execution_count": 44,
     "metadata": {},
     "output_type": "execute_result"
    }
   ],
   "source": [
    "tensor_CPU = tensor_GPU.cpu()\n",
    "tensor_CPU.device"
   ]
  },
  {
   "cell_type": "code",
   "execution_count": null,
   "id": "4c10960f-e7d5-4486-b78a-92dbb1f8712d",
   "metadata": {},
   "outputs": [],
   "source": []
  }
 ],
 "metadata": {
  "kernelspec": {
   "display_name": "Python 3 (ipykernel)",
   "language": "python",
   "name": "python3"
  },
  "language_info": {
   "codemirror_mode": {
    "name": "ipython",
    "version": 3
   },
   "file_extension": ".py",
   "mimetype": "text/x-python",
   "name": "python",
   "nbconvert_exporter": "python",
   "pygments_lexer": "ipython3",
   "version": "3.10.12"
  }
 },
 "nbformat": 4,
 "nbformat_minor": 5
}
