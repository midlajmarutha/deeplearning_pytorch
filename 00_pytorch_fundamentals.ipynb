{
 "cells": [
  {
   "cell_type": "code",
   "execution_count": 1,
   "id": "ae0579b2-8519-4b21-968d-4c0259de3b10",
   "metadata": {},
   "outputs": [],
   "source": [
    "import torch"
   ]
  },
  {
   "cell_type": "markdown",
   "id": "0687cfb1-8546-495e-95b1-145eeee58aeb",
   "metadata": {},
   "source": [
    "### First Tensor\n",
    "Creating tensors with different dimentions using pytorch"
   ]
  },
  {
   "cell_type": "code",
   "execution_count": 2,
   "id": "5abc0a1e-d035-4ef4-bb06-67bda6441d10",
   "metadata": {},
   "outputs": [
    {
     "name": "stdout",
     "output_type": "stream",
     "text": [
      "torch.Size([7])\n"
     ]
    },
    {
     "data": {
      "text/plain": [
       "tensor([[0.2550, 0.7594, 0.1825, 0.7959, 0.2660],\n",
       "        [0.5526, 0.8081, 0.1464, 0.1234, 0.0209],\n",
       "        [0.3384, 0.1631, 0.0543, 0.4963, 0.4736],\n",
       "        [0.3217, 0.9366, 0.9855, 0.5443, 0.0307]])"
      ]
     },
     "execution_count": 2,
     "metadata": {},
     "output_type": "execute_result"
    }
   ],
   "source": [
    "tensor = torch.tensor(5) # scalar\n",
    "\n",
    "# 1 dimentional tensor\n",
    "tensor1 = torch.tensor([3,2,5,6,3,6,3])  # vector \n",
    "print(tensor1.shape)\n",
    "\n",
    "# 2 dimentional tensor\n",
    "# matrix\n",
    "tensor2 = torch.tensor([[1,2,3,4,5],\n",
    "                        [6,7,8,9,0]])\n",
    "\n",
    "# [4,5] tensor with random elements; rand(dim) method creates ramdom tensor with given dimention \n",
    "random_tensor = torch.rand([4,5])\n",
    "random_tensor"
   ]
  },
  {
   "cell_type": "code",
   "execution_count": 16,
   "id": "a69fa031-6b37-45eb-b05c-08da72077b12",
   "metadata": {},
   "outputs": [
    {
     "data": {
      "text/plain": [
       "tensor([1, 3, 5, 7, 9])"
      ]
     },
     "execution_count": 16,
     "metadata": {},
     "output_type": "execute_result"
    }
   ],
   "source": [
    "torch.arange(1,10,2)"
   ]
  },
  {
   "cell_type": "code",
   "execution_count": 3,
   "id": "b0fa265f-bba9-4a8e-b358-2f57f4667fab",
   "metadata": {},
   "outputs": [
    {
     "data": {
      "text/plain": [
       "torch.Size([7])"
      ]
     },
     "execution_count": 3,
     "metadata": {},
     "output_type": "execute_result"
    }
   ],
   "source": [
    "# shape of the tensor\n",
    "tensor1.shape\n",
    "# OR\n",
    "tensor1.size()"
   ]
  },
  {
   "cell_type": "markdown",
   "id": "c0193b15-f754-49ed-9b28-62c4a0514ff2",
   "metadata": {},
   "source": [
    "### Tensor Datatypes\n",
    "\n",
    "Tensors can have many datatype such as float16, float32, int32, int16 etc.\n",
    "tensor.dtype contain data type of the tensor"
   ]
  },
  {
   "cell_type": "code",
   "execution_count": 4,
   "id": "72cd6415-76e0-4f3a-aeb3-5618ad1c403f",
   "metadata": {},
   "outputs": [
    {
     "data": {
      "text/plain": [
       "torch.float32"
      ]
     },
     "execution_count": 4,
     "metadata": {},
     "output_type": "execute_result"
    }
   ],
   "source": [
    "# tensor.dtype contain data type of the tensor\n",
    "random_tensor.dtype"
   ]
  },
  {
   "cell_type": "code",
   "execution_count": 7,
   "id": "3917e7fb-d3ba-4725-b894-d1722f737f17",
   "metadata": {},
   "outputs": [
    {
     "data": {
      "text/plain": [
       "torch.float16"
      ]
     },
     "execution_count": 7,
     "metadata": {},
     "output_type": "execute_result"
    }
   ],
   "source": [
    "# changing type of a tensor: type()\n",
    "f16tensor = random_tensor.type(torch.float16)\n",
    "f16tensor.dtype"
   ]
  },
  {
   "cell_type": "markdown",
   "id": "3c2f7a50-623d-4502-861b-ba790124d4d7",
   "metadata": {},
   "source": [
    "### Tensor aggregation\n",
    "finding min, max, sum, mean etc of a tensor"
   ]
  },
  {
   "cell_type": "code",
   "execution_count": 10,
   "id": "27c46c46-ea47-4812-b087-cbffdda2c669",
   "metadata": {},
   "outputs": [
    {
     "data": {
      "text/plain": [
       "(tensor(1), tensor(8))"
      ]
     },
     "execution_count": 10,
     "metadata": {},
     "output_type": "execute_result"
    }
   ],
   "source": [
    "x = torch.tensor([1,2,3,4,5,6,7,8])\n",
    "\n",
    "# finding min and max of the tensor x\n",
    "torch.min(x), torch.max(x)\n",
    "# OR\n",
    "x.min(),x.max()"
   ]
  },
  {
   "cell_type": "code",
   "execution_count": 12,
   "id": "8e8d600a-546b-4f78-a9a2-89f26aac2874",
   "metadata": {},
   "outputs": [
    {
     "data": {
      "text/plain": [
       "(tensor(36), tensor(36))"
      ]
     },
     "execution_count": 12,
     "metadata": {},
     "output_type": "execute_result"
    }
   ],
   "source": [
    "#finding sum of the tensor\n",
    "torch.sum(x), x.sum()"
   ]
  },
  {
   "cell_type": "code",
   "execution_count": 13,
   "id": "429a2a38-6c79-4d4f-9e0b-20278311bf39",
   "metadata": {},
   "outputs": [
    {
     "data": {
      "text/plain": [
       "(tensor(4.5000), tensor(4.5000))"
      ]
     },
     "execution_count": 13,
     "metadata": {},
     "output_type": "execute_result"
    }
   ],
   "source": [
    "# finding the mean of the tensor x\n",
    "# to find the mean, the tensor have to be floating point or complex dtype\n",
    "# x.mean() or torch.mean(x) don't work, because dtype of tensor x in int64 (long)\n",
    "x = x.type(torch.float32)\n",
    "x.mean(), torch.mean(x)"
   ]
  },
  {
   "cell_type": "code",
   "execution_count": 18,
   "id": "721f5e70-1720-4e5c-85f4-b0fd2df9bb38",
   "metadata": {},
   "outputs": [
    {
     "data": {
      "text/plain": [
       "(tensor(0), tensor(7))"
      ]
     },
     "execution_count": 18,
     "metadata": {},
     "output_type": "execute_result"
    }
   ],
   "source": [
    "# finding positional min and max (position of the min and max elment in the tensor)\n",
    "\n",
    "x.argmin(), x.argmax()"
   ]
  },
  {
   "cell_type": "markdown",
   "id": "cb6a6d89-4d7c-4d66-9a0b-45d935eea940",
   "metadata": {},
   "source": [
    "### Manipulating tensors (Tensor operations)\n",
    "\n",
    "Tensor operations:\n",
    "* Addition\n",
    "* Subtraction\n",
    "* Multiplication (element wise)\n",
    "* Division\n",
    "* Matix Multiplication"
   ]
  },
  {
   "cell_type": "code",
   "execution_count": 28,
   "id": "c0debb9d-1b77-45e4-8eab-2adcf65420c6",
   "metadata": {},
   "outputs": [
    {
     "data": {
      "text/plain": [
       "tensor([[0.2607, 0.8618, 0.9763, 0.7213],\n",
       "        [0.6898, 0.3211, 0.4672, 0.0916],\n",
       "        [0.7359, 0.4593, 0.9698, 0.6946],\n",
       "        [0.2346, 0.3074, 0.5314, 0.4972]])"
      ]
     },
     "execution_count": 28,
     "metadata": {},
     "output_type": "execute_result"
    }
   ],
   "source": [
    "tensor = torch.rand([4,4])\n",
    "tensor"
   ]
  },
  {
   "cell_type": "code",
   "execution_count": 37,
   "id": "dca057ba-177b-4a51-8f72-b9dcab4afbcb",
   "metadata": {},
   "outputs": [
    {
     "data": {
      "text/plain": [
       "(tensor([[1.2607, 1.8618, 1.9763, 1.7213],\n",
       "         [1.6898, 1.3211, 1.4672, 1.0916],\n",
       "         [1.7359, 1.4593, 1.9698, 1.6946],\n",
       "         [1.2346, 1.3074, 1.5314, 1.4972]]),\n",
       " tensor([[1.2607, 1.8618, 1.9763, 1.7213],\n",
       "         [1.6898, 1.3211, 1.4672, 1.0916],\n",
       "         [1.7359, 1.4593, 1.9698, 1.6946],\n",
       "         [1.2346, 1.3074, 1.5314, 1.4972]]),\n",
       " tensor([[1.2607, 1.8618, 1.9763, 1.7213],\n",
       "         [1.6898, 1.3211, 1.4672, 1.0916],\n",
       "         [1.7359, 1.4593, 1.9698, 1.6946],\n",
       "         [1.2346, 1.3074, 1.5314, 1.4972]]))"
      ]
     },
     "execution_count": 37,
     "metadata": {},
     "output_type": "execute_result"
    }
   ],
   "source": [
    "# Addition\n",
    "tensor + 1, torch.add(tensor,1), tensor.add(1)"
   ]
  },
  {
   "cell_type": "code",
   "execution_count": 38,
   "id": "a339ce8e-773a-4bf6-ae37-e388141bcd92",
   "metadata": {},
   "outputs": [
    {
     "data": {
      "text/plain": [
       "(tensor([[-0.7393, -0.1382, -0.0237, -0.2787],\n",
       "         [-0.3102, -0.6789, -0.5328, -0.9084],\n",
       "         [-0.2641, -0.5407, -0.0302, -0.3054],\n",
       "         [-0.7654, -0.6926, -0.4686, -0.5028]]),\n",
       " tensor([[-0.7393, -0.1382, -0.0237, -0.2787],\n",
       "         [-0.3102, -0.6789, -0.5328, -0.9084],\n",
       "         [-0.2641, -0.5407, -0.0302, -0.3054],\n",
       "         [-0.7654, -0.6926, -0.4686, -0.5028]]),\n",
       " tensor([[-0.7393, -0.1382, -0.0237, -0.2787],\n",
       "         [-0.3102, -0.6789, -0.5328, -0.9084],\n",
       "         [-0.2641, -0.5407, -0.0302, -0.3054],\n",
       "         [-0.7654, -0.6926, -0.4686, -0.5028]]))"
      ]
     },
     "execution_count": 38,
     "metadata": {},
     "output_type": "execute_result"
    }
   ],
   "source": [
    "#subtaction\n",
    "tensor - 1, torch.subtract(tensor,1), tensor.subtract(1)"
   ]
  },
  {
   "cell_type": "code",
   "execution_count": 31,
   "id": "bf2982e5-d070-4432-903c-b54fb277421c",
   "metadata": {},
   "outputs": [
    {
     "data": {
      "text/plain": [
       "tensor([[0.7820, 2.5854, 2.9289, 2.1640],\n",
       "        [2.0693, 0.9634, 1.4016, 0.2749],\n",
       "        [2.2078, 1.3780, 2.9093, 2.0839],\n",
       "        [0.7037, 0.9221, 1.5942, 1.4915]])"
      ]
     },
     "execution_count": 31,
     "metadata": {},
     "output_type": "execute_result"
    }
   ],
   "source": [
    "# Element wise multiplication\n",
    "tensor * 3, torch.mul(tensor,3), tensor.mul"
   ]
  },
  {
   "cell_type": "code",
   "execution_count": 32,
   "id": "c8f650fa-ebbd-427a-b77f-a2a7eb935a13",
   "metadata": {},
   "outputs": [
    {
     "data": {
      "text/plain": [
       "tensor([[0.1303, 0.4309, 0.4881, 0.3607],\n",
       "        [0.3449, 0.1606, 0.2336, 0.0458],\n",
       "        [0.3680, 0.2297, 0.4849, 0.3473],\n",
       "        [0.1173, 0.1537, 0.2657, 0.2486]])"
      ]
     },
     "execution_count": 32,
     "metadata": {},
     "output_type": "execute_result"
    }
   ],
   "source": [
    "# Division\n",
    "tensor / 2"
   ]
  },
  {
   "cell_type": "markdown",
   "id": "6182d36c-1fdb-498c-9c63-28d06bf002ac",
   "metadata": {},
   "source": [
    "### Matrix multiplication (Multiplying Tensors)\n",
    "Rules of matric multiplication\n",
    "* The inner dimention of two tensors must be same\n",
    "    - `(3,2) * (3,4)` won't work\n",
    "    - `(3,2) * (2,4)` will work\n",
    "* The dimention of the result will be same as the outer dimentions of the operant matrices\n",
    "    - `(3,2) * (4,2)` will result the matrix with the shape of `(2,4)`"
   ]
  },
  {
   "cell_type": "code",
   "execution_count": 36,
   "id": "9ec99ef6-020a-42e7-ba4f-5eac15b3b0ff",
   "metadata": {},
   "outputs": [
    {
     "data": {
      "text/plain": [
       "torch.Size([4, 4])"
      ]
     },
     "execution_count": 36,
     "metadata": {},
     "output_type": "execute_result"
    }
   ],
   "source": [
    "# note that the inner dimentions of Tensors \"tensor\" and \"tensor2\"\n",
    "tensor2 = torch.rand([4,6])\n",
    "tensor.shape"
   ]
  },
  {
   "cell_type": "code",
   "execution_count": null,
   "id": "2c979a25-4e45-49a3-b952-554e72f77653",
   "metadata": {},
   "outputs": [],
   "source": []
  }
 ],
 "metadata": {
  "kernelspec": {
   "display_name": "Python 3 (ipykernel)",
   "language": "python",
   "name": "python3"
  },
  "language_info": {
   "codemirror_mode": {
    "name": "ipython",
    "version": 3
   },
   "file_extension": ".py",
   "mimetype": "text/x-python",
   "name": "python",
   "nbconvert_exporter": "python",
   "pygments_lexer": "ipython3",
   "version": "3.10.12"
  }
 },
 "nbformat": 4,
 "nbformat_minor": 5
}
