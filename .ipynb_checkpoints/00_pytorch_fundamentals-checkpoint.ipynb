{
 "cells": [
  {
   "cell_type": "code",
   "execution_count": 1,
   "id": "ae0579b2-8519-4b21-968d-4c0259de3b10",
   "metadata": {},
   "outputs": [],
   "source": [
    "import torch"
   ]
  },
  {
   "cell_type": "markdown",
   "id": "0687cfb1-8546-495e-95b1-145eeee58aeb",
   "metadata": {},
   "source": [
    "### First Tensor\n",
    "Creating tensors with different dimentions using pytorch"
   ]
  },
  {
   "cell_type": "code",
   "execution_count": 2,
   "id": "5abc0a1e-d035-4ef4-bb06-67bda6441d10",
   "metadata": {},
   "outputs": [
    {
     "name": "stdout",
     "output_type": "stream",
     "text": [
      "torch.Size([7])\n"
     ]
    },
    {
     "data": {
      "text/plain": [
       "tensor([[0.2550, 0.7594, 0.1825, 0.7959, 0.2660],\n",
       "        [0.5526, 0.8081, 0.1464, 0.1234, 0.0209],\n",
       "        [0.3384, 0.1631, 0.0543, 0.4963, 0.4736],\n",
       "        [0.3217, 0.9366, 0.9855, 0.5443, 0.0307]])"
      ]
     },
     "execution_count": 2,
     "metadata": {},
     "output_type": "execute_result"
    }
   ],
   "source": [
    "tensor = torch.tensor(5) # scalar\n",
    "\n",
    "# 1 dimentional tensor\n",
    "tensor1 = torch.tensor([3,2,5,6,3,6,3])  # vector \n",
    "print(tensor1.shape)\n",
    "\n",
    "# 2 dimentional tensor\n",
    "# matrix\n",
    "tensor2 = torch.tensor([[1,2,3,4,5],\n",
    "                        [6,7,8,9,0]])\n",
    "\n",
    "# [4,5] tensor with random elements; rand(dim) method creates ramdom tensor with given dimention \n",
    "random_tensor = torch.rand([4,5])\n",
    "random_tensor"
   ]
  },
  {
   "cell_type": "code",
   "execution_count": 3,
   "id": "b0fa265f-bba9-4a8e-b358-2f57f4667fab",
   "metadata": {},
   "outputs": [
    {
     "data": {
      "text/plain": [
       "torch.Size([7])"
      ]
     },
     "execution_count": 3,
     "metadata": {},
     "output_type": "execute_result"
    }
   ],
   "source": [
    "# shape of the tensor\n",
    "tensor1.shape\n",
    "# OR\n",
    "tensor1.size()"
   ]
  },
  {
   "cell_type": "markdown",
   "id": "c0193b15-f754-49ed-9b28-62c4a0514ff2",
   "metadata": {},
   "source": [
    "### Tensor Datatypes\n",
    "\n",
    "Tensors can have many datatype such as float16, float32, int32, int16 etc.\n",
    "tensor.dtype contain data type of the tensor"
   ]
  },
  {
   "cell_type": "code",
   "execution_count": 4,
   "id": "72cd6415-76e0-4f3a-aeb3-5618ad1c403f",
   "metadata": {},
   "outputs": [
    {
     "data": {
      "text/plain": [
       "torch.float32"
      ]
     },
     "execution_count": 4,
     "metadata": {},
     "output_type": "execute_result"
    }
   ],
   "source": [
    "# tensor.dtype contain data type of the tensor\n",
    "random_tensor.dtype"
   ]
  },
  {
   "cell_type": "code",
   "execution_count": 7,
   "id": "3917e7fb-d3ba-4725-b894-d1722f737f17",
   "metadata": {},
   "outputs": [
    {
     "data": {
      "text/plain": [
       "torch.float16"
      ]
     },
     "execution_count": 7,
     "metadata": {},
     "output_type": "execute_result"
    }
   ],
   "source": [
    "# changing type of a tensor: type()\n",
    "f16tensor = random_tensor.type(torch.float16)\n",
    "f16tensor.dtype"
   ]
  },
  {
   "cell_type": "markdown",
   "id": "3c2f7a50-623d-4502-861b-ba790124d4d7",
   "metadata": {},
   "source": [
    "### Tensor aggregation\n",
    "finding min, max, sum, mean etc of a tensor"
   ]
  },
  {
   "cell_type": "code",
   "execution_count": 10,
   "id": "27c46c46-ea47-4812-b087-cbffdda2c669",
   "metadata": {},
   "outputs": [
    {
     "data": {
      "text/plain": [
       "(tensor(1), tensor(8))"
      ]
     },
     "execution_count": 10,
     "metadata": {},
     "output_type": "execute_result"
    }
   ],
   "source": [
    "x = torch.tensor([1,2,3,4,5,6,7,8])\n",
    "\n",
    "# finding min and max of the tensor x\n",
    "torch.min(x), torch.max(x)\n",
    "# OR\n",
    "x.min(),x.max()"
   ]
  },
  {
   "cell_type": "code",
   "execution_count": 11,
   "id": "8e8d600a-546b-4f78-a9a2-89f26aac2874",
   "metadata": {},
   "outputs": [
    {
     "ename": "RuntimeError",
     "evalue": "mean(): could not infer output dtype. Input dtype must be either a floating point or complex dtype. Got: Long",
     "output_type": "error",
     "traceback": [
      "\u001b[0;31m---------------------------------------------------------------------------\u001b[0m",
      "\u001b[0;31mRuntimeError\u001b[0m                              Traceback (most recent call last)",
      "Cell \u001b[0;32mIn[11], line 2\u001b[0m\n\u001b[1;32m      1\u001b[0m \u001b[38;5;66;03m#finding mean and sum of the tensor\u001b[39;00m\n\u001b[0;32m----> 2\u001b[0m \u001b[43mx\u001b[49m\u001b[38;5;241;43m.\u001b[39;49m\u001b[43mmean\u001b[49m\u001b[43m(\u001b[49m\u001b[43m)\u001b[49m\n",
      "\u001b[0;31mRuntimeError\u001b[0m: mean(): could not infer output dtype. Input dtype must be either a floating point or complex dtype. Got: Long"
     ]
    }
   ],
   "source": [
    "#finding mean and sum of the tensor\n",
    "x.mean()"
   ]
  },
  {
   "cell_type": "code",
   "execution_count": null,
   "id": "429a2a38-6c79-4d4f-9e0b-20278311bf39",
   "metadata": {},
   "outputs": [],
   "source": []
  }
 ],
 "metadata": {
  "kernelspec": {
   "display_name": "Python 3 (ipykernel)",
   "language": "python",
   "name": "python3"
  },
  "language_info": {
   "codemirror_mode": {
    "name": "ipython",
    "version": 3
   },
   "file_extension": ".py",
   "mimetype": "text/x-python",
   "name": "python",
   "nbconvert_exporter": "python",
   "pygments_lexer": "ipython3",
   "version": "3.10.12"
  }
 },
 "nbformat": 4,
 "nbformat_minor": 5
}
