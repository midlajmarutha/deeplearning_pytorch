{
  "nbformat": 4,
  "nbformat_minor": 0,
  "metadata": {
    "colab": {
      "provenance": [],
      "gpuType": "T4"
    },
    "kernelspec": {
      "name": "python3",
      "display_name": "Python 3"
    },
    "language_info": {
      "name": "python"
    },
    "widgets": {
      "application/vnd.jupyter.widget-state+json": {
        "1ac5ee3c94d548a08c3fe03e1d63576a": {
          "model_module": "@jupyter-widgets/controls",
          "model_name": "HBoxModel",
          "model_module_version": "1.5.0",
          "state": {
            "_dom_classes": [],
            "_model_module": "@jupyter-widgets/controls",
            "_model_module_version": "1.5.0",
            "_model_name": "HBoxModel",
            "_view_count": null,
            "_view_module": "@jupyter-widgets/controls",
            "_view_module_version": "1.5.0",
            "_view_name": "HBoxView",
            "box_style": "",
            "children": [
              "IPY_MODEL_529212f6d4b54e619f15b3258f5fdcae",
              "IPY_MODEL_c52994c5dcb2469d81d09b1d1ebfc163",
              "IPY_MODEL_6cc8eae7e40d4aeb90c75e37e17e0291"
            ],
            "layout": "IPY_MODEL_7544c5ed649640e0987b699eaf808577"
          }
        },
        "529212f6d4b54e619f15b3258f5fdcae": {
          "model_module": "@jupyter-widgets/controls",
          "model_name": "HTMLModel",
          "model_module_version": "1.5.0",
          "state": {
            "_dom_classes": [],
            "_model_module": "@jupyter-widgets/controls",
            "_model_module_version": "1.5.0",
            "_model_name": "HTMLModel",
            "_view_count": null,
            "_view_module": "@jupyter-widgets/controls",
            "_view_module_version": "1.5.0",
            "_view_name": "HTMLView",
            "description": "",
            "description_tooltip": null,
            "layout": "IPY_MODEL_8b54ebf7354243bb933cb673ed6bf136",
            "placeholder": "​",
            "style": "IPY_MODEL_98daeabe25ac456d8494417732b2f033",
            "value": "100%"
          }
        },
        "c52994c5dcb2469d81d09b1d1ebfc163": {
          "model_module": "@jupyter-widgets/controls",
          "model_name": "FloatProgressModel",
          "model_module_version": "1.5.0",
          "state": {
            "_dom_classes": [],
            "_model_module": "@jupyter-widgets/controls",
            "_model_module_version": "1.5.0",
            "_model_name": "FloatProgressModel",
            "_view_count": null,
            "_view_module": "@jupyter-widgets/controls",
            "_view_module_version": "1.5.0",
            "_view_name": "ProgressView",
            "bar_style": "success",
            "description": "",
            "description_tooltip": null,
            "layout": "IPY_MODEL_0e790f4c866b45b1b535efe7bd001ebb",
            "max": 3,
            "min": 0,
            "orientation": "horizontal",
            "style": "IPY_MODEL_59ac2f72ef7d4cc7afdb4f329e4669ed",
            "value": 3
          }
        },
        "6cc8eae7e40d4aeb90c75e37e17e0291": {
          "model_module": "@jupyter-widgets/controls",
          "model_name": "HTMLModel",
          "model_module_version": "1.5.0",
          "state": {
            "_dom_classes": [],
            "_model_module": "@jupyter-widgets/controls",
            "_model_module_version": "1.5.0",
            "_model_name": "HTMLModel",
            "_view_count": null,
            "_view_module": "@jupyter-widgets/controls",
            "_view_module_version": "1.5.0",
            "_view_name": "HTMLView",
            "description": "",
            "description_tooltip": null,
            "layout": "IPY_MODEL_a3b0cd2006f54a04af9084548279651a",
            "placeholder": "​",
            "style": "IPY_MODEL_de2d4d650b8f426f853479239ec94721",
            "value": " 3/3 [00:37&lt;00:00, 12.42s/it]"
          }
        },
        "7544c5ed649640e0987b699eaf808577": {
          "model_module": "@jupyter-widgets/base",
          "model_name": "LayoutModel",
          "model_module_version": "1.2.0",
          "state": {
            "_model_module": "@jupyter-widgets/base",
            "_model_module_version": "1.2.0",
            "_model_name": "LayoutModel",
            "_view_count": null,
            "_view_module": "@jupyter-widgets/base",
            "_view_module_version": "1.2.0",
            "_view_name": "LayoutView",
            "align_content": null,
            "align_items": null,
            "align_self": null,
            "border": null,
            "bottom": null,
            "display": null,
            "flex": null,
            "flex_flow": null,
            "grid_area": null,
            "grid_auto_columns": null,
            "grid_auto_flow": null,
            "grid_auto_rows": null,
            "grid_column": null,
            "grid_gap": null,
            "grid_row": null,
            "grid_template_areas": null,
            "grid_template_columns": null,
            "grid_template_rows": null,
            "height": null,
            "justify_content": null,
            "justify_items": null,
            "left": null,
            "margin": null,
            "max_height": null,
            "max_width": null,
            "min_height": null,
            "min_width": null,
            "object_fit": null,
            "object_position": null,
            "order": null,
            "overflow": null,
            "overflow_x": null,
            "overflow_y": null,
            "padding": null,
            "right": null,
            "top": null,
            "visibility": null,
            "width": null
          }
        },
        "8b54ebf7354243bb933cb673ed6bf136": {
          "model_module": "@jupyter-widgets/base",
          "model_name": "LayoutModel",
          "model_module_version": "1.2.0",
          "state": {
            "_model_module": "@jupyter-widgets/base",
            "_model_module_version": "1.2.0",
            "_model_name": "LayoutModel",
            "_view_count": null,
            "_view_module": "@jupyter-widgets/base",
            "_view_module_version": "1.2.0",
            "_view_name": "LayoutView",
            "align_content": null,
            "align_items": null,
            "align_self": null,
            "border": null,
            "bottom": null,
            "display": null,
            "flex": null,
            "flex_flow": null,
            "grid_area": null,
            "grid_auto_columns": null,
            "grid_auto_flow": null,
            "grid_auto_rows": null,
            "grid_column": null,
            "grid_gap": null,
            "grid_row": null,
            "grid_template_areas": null,
            "grid_template_columns": null,
            "grid_template_rows": null,
            "height": null,
            "justify_content": null,
            "justify_items": null,
            "left": null,
            "margin": null,
            "max_height": null,
            "max_width": null,
            "min_height": null,
            "min_width": null,
            "object_fit": null,
            "object_position": null,
            "order": null,
            "overflow": null,
            "overflow_x": null,
            "overflow_y": null,
            "padding": null,
            "right": null,
            "top": null,
            "visibility": null,
            "width": null
          }
        },
        "98daeabe25ac456d8494417732b2f033": {
          "model_module": "@jupyter-widgets/controls",
          "model_name": "DescriptionStyleModel",
          "model_module_version": "1.5.0",
          "state": {
            "_model_module": "@jupyter-widgets/controls",
            "_model_module_version": "1.5.0",
            "_model_name": "DescriptionStyleModel",
            "_view_count": null,
            "_view_module": "@jupyter-widgets/base",
            "_view_module_version": "1.2.0",
            "_view_name": "StyleView",
            "description_width": ""
          }
        },
        "0e790f4c866b45b1b535efe7bd001ebb": {
          "model_module": "@jupyter-widgets/base",
          "model_name": "LayoutModel",
          "model_module_version": "1.2.0",
          "state": {
            "_model_module": "@jupyter-widgets/base",
            "_model_module_version": "1.2.0",
            "_model_name": "LayoutModel",
            "_view_count": null,
            "_view_module": "@jupyter-widgets/base",
            "_view_module_version": "1.2.0",
            "_view_name": "LayoutView",
            "align_content": null,
            "align_items": null,
            "align_self": null,
            "border": null,
            "bottom": null,
            "display": null,
            "flex": null,
            "flex_flow": null,
            "grid_area": null,
            "grid_auto_columns": null,
            "grid_auto_flow": null,
            "grid_auto_rows": null,
            "grid_column": null,
            "grid_gap": null,
            "grid_row": null,
            "grid_template_areas": null,
            "grid_template_columns": null,
            "grid_template_rows": null,
            "height": null,
            "justify_content": null,
            "justify_items": null,
            "left": null,
            "margin": null,
            "max_height": null,
            "max_width": null,
            "min_height": null,
            "min_width": null,
            "object_fit": null,
            "object_position": null,
            "order": null,
            "overflow": null,
            "overflow_x": null,
            "overflow_y": null,
            "padding": null,
            "right": null,
            "top": null,
            "visibility": null,
            "width": null
          }
        },
        "59ac2f72ef7d4cc7afdb4f329e4669ed": {
          "model_module": "@jupyter-widgets/controls",
          "model_name": "ProgressStyleModel",
          "model_module_version": "1.5.0",
          "state": {
            "_model_module": "@jupyter-widgets/controls",
            "_model_module_version": "1.5.0",
            "_model_name": "ProgressStyleModel",
            "_view_count": null,
            "_view_module": "@jupyter-widgets/base",
            "_view_module_version": "1.2.0",
            "_view_name": "StyleView",
            "bar_color": null,
            "description_width": ""
          }
        },
        "a3b0cd2006f54a04af9084548279651a": {
          "model_module": "@jupyter-widgets/base",
          "model_name": "LayoutModel",
          "model_module_version": "1.2.0",
          "state": {
            "_model_module": "@jupyter-widgets/base",
            "_model_module_version": "1.2.0",
            "_model_name": "LayoutModel",
            "_view_count": null,
            "_view_module": "@jupyter-widgets/base",
            "_view_module_version": "1.2.0",
            "_view_name": "LayoutView",
            "align_content": null,
            "align_items": null,
            "align_self": null,
            "border": null,
            "bottom": null,
            "display": null,
            "flex": null,
            "flex_flow": null,
            "grid_area": null,
            "grid_auto_columns": null,
            "grid_auto_flow": null,
            "grid_auto_rows": null,
            "grid_column": null,
            "grid_gap": null,
            "grid_row": null,
            "grid_template_areas": null,
            "grid_template_columns": null,
            "grid_template_rows": null,
            "height": null,
            "justify_content": null,
            "justify_items": null,
            "left": null,
            "margin": null,
            "max_height": null,
            "max_width": null,
            "min_height": null,
            "min_width": null,
            "object_fit": null,
            "object_position": null,
            "order": null,
            "overflow": null,
            "overflow_x": null,
            "overflow_y": null,
            "padding": null,
            "right": null,
            "top": null,
            "visibility": null,
            "width": null
          }
        },
        "de2d4d650b8f426f853479239ec94721": {
          "model_module": "@jupyter-widgets/controls",
          "model_name": "DescriptionStyleModel",
          "model_module_version": "1.5.0",
          "state": {
            "_model_module": "@jupyter-widgets/controls",
            "_model_module_version": "1.5.0",
            "_model_name": "DescriptionStyleModel",
            "_view_count": null,
            "_view_module": "@jupyter-widgets/base",
            "_view_module_version": "1.2.0",
            "_view_name": "StyleView",
            "description_width": ""
          }
        }
      }
    }
  },
  "cells": [
    {
      "cell_type": "code",
      "execution_count": 1,
      "metadata": {
        "colab": {
          "base_uri": "https://localhost:8080/",
          "height": 35
        },
        "id": "E2aPD-WJl5a6",
        "outputId": "d9ffcc54-5219-461c-ac67-131ee9e8cefd"
      },
      "outputs": [
        {
          "output_type": "execute_result",
          "data": {
            "text/plain": [
              "'2.3.0+cu121'"
            ],
            "application/vnd.google.colaboratory.intrinsic+json": {
              "type": "string"
            }
          },
          "metadata": {},
          "execution_count": 1
        }
      ],
      "source": [
        "import torch\n",
        "from torch import nn\n",
        "\n",
        "import torchvision\n",
        "from torchvision import datasets\n",
        "from torchvision import transforms\n",
        "from torchvision.transforms import ToTensor\n",
        "\n",
        "torch.__version__"
      ]
    },
    {
      "cell_type": "code",
      "source": [
        "!nvidia-smi"
      ],
      "metadata": {
        "colab": {
          "base_uri": "https://localhost:8080/"
        },
        "id": "dj62kDiWmRTr",
        "outputId": "21bc004d-a76e-4d61-db33-18152dca7c16"
      },
      "execution_count": 2,
      "outputs": [
        {
          "output_type": "stream",
          "name": "stdout",
          "text": [
            "/bin/bash: line 1: nvidia-smi: command not found\n"
          ]
        }
      ]
    },
    {
      "cell_type": "markdown",
      "source": [
        "### Generating data\n",
        "\n"
      ],
      "metadata": {
        "id": "o1hEUESjmX85"
      }
    },
    {
      "cell_type": "code",
      "source": [
        "train_data = datasets.FashionMNIST(\n",
        "    root=\"data\",\n",
        "    train=True,\n",
        "    download=True,\n",
        "    transform=ToTensor(),\n",
        "    target_transform=None\n",
        ")\n",
        "\n",
        "test_data = datasets.FashionMNIST(\n",
        "    root=\"data\",\n",
        "    train=False,\n",
        "    download=True,\n",
        "    transform=torchvision.transforms.ToTensor(),\n",
        "    target_transform=None\n",
        ")"
      ],
      "metadata": {
        "id": "8Ts69zeKn0x5",
        "colab": {
          "base_uri": "https://localhost:8080/"
        },
        "outputId": "176f3ad7-f4d9-4293-e794-77613ed25283"
      },
      "execution_count": 3,
      "outputs": [
        {
          "output_type": "stream",
          "name": "stdout",
          "text": [
            "Downloading http://fashion-mnist.s3-website.eu-central-1.amazonaws.com/train-images-idx3-ubyte.gz\n",
            "Downloading http://fashion-mnist.s3-website.eu-central-1.amazonaws.com/train-images-idx3-ubyte.gz to data/FashionMNIST/raw/train-images-idx3-ubyte.gz\n"
          ]
        },
        {
          "output_type": "stream",
          "name": "stderr",
          "text": [
            "100%|██████████| 26421880/26421880 [00:15<00:00, 1702050.95it/s]\n"
          ]
        },
        {
          "output_type": "stream",
          "name": "stdout",
          "text": [
            "Extracting data/FashionMNIST/raw/train-images-idx3-ubyte.gz to data/FashionMNIST/raw\n",
            "\n",
            "Downloading http://fashion-mnist.s3-website.eu-central-1.amazonaws.com/train-labels-idx1-ubyte.gz\n",
            "Downloading http://fashion-mnist.s3-website.eu-central-1.amazonaws.com/train-labels-idx1-ubyte.gz to data/FashionMNIST/raw/train-labels-idx1-ubyte.gz\n"
          ]
        },
        {
          "output_type": "stream",
          "name": "stderr",
          "text": [
            "100%|██████████| 29515/29515 [00:00<00:00, 336287.65it/s]\n"
          ]
        },
        {
          "output_type": "stream",
          "name": "stdout",
          "text": [
            "Extracting data/FashionMNIST/raw/train-labels-idx1-ubyte.gz to data/FashionMNIST/raw\n",
            "\n",
            "Downloading http://fashion-mnist.s3-website.eu-central-1.amazonaws.com/t10k-images-idx3-ubyte.gz\n",
            "Downloading http://fashion-mnist.s3-website.eu-central-1.amazonaws.com/t10k-images-idx3-ubyte.gz to data/FashionMNIST/raw/t10k-images-idx3-ubyte.gz\n"
          ]
        },
        {
          "output_type": "stream",
          "name": "stderr",
          "text": [
            "100%|██████████| 4422102/4422102 [00:02<00:00, 1965961.55it/s]\n"
          ]
        },
        {
          "output_type": "stream",
          "name": "stdout",
          "text": [
            "Extracting data/FashionMNIST/raw/t10k-images-idx3-ubyte.gz to data/FashionMNIST/raw\n",
            "\n",
            "Downloading http://fashion-mnist.s3-website.eu-central-1.amazonaws.com/t10k-labels-idx1-ubyte.gz\n",
            "Downloading http://fashion-mnist.s3-website.eu-central-1.amazonaws.com/t10k-labels-idx1-ubyte.gz to data/FashionMNIST/raw/t10k-labels-idx1-ubyte.gz\n"
          ]
        },
        {
          "output_type": "stream",
          "name": "stderr",
          "text": [
            "100%|██████████| 5148/5148 [00:00<00:00, 9223527.12it/s]"
          ]
        },
        {
          "output_type": "stream",
          "name": "stdout",
          "text": [
            "Extracting data/FashionMNIST/raw/t10k-labels-idx1-ubyte.gz to data/FashionMNIST/raw\n",
            "\n"
          ]
        },
        {
          "output_type": "stream",
          "name": "stderr",
          "text": [
            "\n"
          ]
        }
      ]
    },
    {
      "cell_type": "code",
      "source": [
        "len(train_data), len(test_data)"
      ],
      "metadata": {
        "colab": {
          "base_uri": "https://localhost:8080/"
        },
        "id": "Y2phmk5Fp9dn",
        "outputId": "d11e5446-dd77-4dc4-f36e-c3c6981acd48"
      },
      "execution_count": 4,
      "outputs": [
        {
          "output_type": "execute_result",
          "data": {
            "text/plain": [
              "(60000, 10000)"
            ]
          },
          "metadata": {},
          "execution_count": 4
        }
      ]
    },
    {
      "cell_type": "code",
      "source": [
        "image, target = train_data[0]\n",
        "image.shape"
      ],
      "metadata": {
        "colab": {
          "base_uri": "https://localhost:8080/"
        },
        "id": "hPOHY4EEqGqb",
        "outputId": "85a338eb-ecb6-4de9-cf0c-5fb9d9786420"
      },
      "execution_count": 5,
      "outputs": [
        {
          "output_type": "execute_result",
          "data": {
            "text/plain": [
              "torch.Size([1, 28, 28])"
            ]
          },
          "metadata": {},
          "execution_count": 5
        }
      ]
    },
    {
      "cell_type": "code",
      "source": [
        "classnames = train_data.classes\n",
        "classnames"
      ],
      "metadata": {
        "id": "x6nzLhm4qNjj",
        "colab": {
          "base_uri": "https://localhost:8080/"
        },
        "outputId": "5d4fcb39-8fc7-4390-eb32-a67c172527c4"
      },
      "execution_count": 6,
      "outputs": [
        {
          "output_type": "execute_result",
          "data": {
            "text/plain": [
              "['T-shirt/top',\n",
              " 'Trouser',\n",
              " 'Pullover',\n",
              " 'Dress',\n",
              " 'Coat',\n",
              " 'Sandal',\n",
              " 'Shirt',\n",
              " 'Sneaker',\n",
              " 'Bag',\n",
              " 'Ankle boot']"
            ]
          },
          "metadata": {},
          "execution_count": 6
        }
      ]
    },
    {
      "cell_type": "code",
      "source": [
        "class_idx = train_data.class_to_idx\n",
        "class_idx"
      ],
      "metadata": {
        "colab": {
          "base_uri": "https://localhost:8080/"
        },
        "id": "-AI0R3vTsnN0",
        "outputId": "6e67cb15-85ae-43c7-b5cf-36e26f771cda"
      },
      "execution_count": 7,
      "outputs": [
        {
          "output_type": "execute_result",
          "data": {
            "text/plain": [
              "{'T-shirt/top': 0,\n",
              " 'Trouser': 1,\n",
              " 'Pullover': 2,\n",
              " 'Dress': 3,\n",
              " 'Coat': 4,\n",
              " 'Sandal': 5,\n",
              " 'Shirt': 6,\n",
              " 'Sneaker': 7,\n",
              " 'Bag': 8,\n",
              " 'Ankle boot': 9}"
            ]
          },
          "metadata": {},
          "execution_count": 7
        }
      ]
    },
    {
      "cell_type": "code",
      "source": [
        "train_data.targets"
      ],
      "metadata": {
        "colab": {
          "base_uri": "https://localhost:8080/"
        },
        "id": "1ngT79b_tu0H",
        "outputId": "791e9bdf-4f2c-442b-a335-fdbb132e2066"
      },
      "execution_count": 8,
      "outputs": [
        {
          "output_type": "execute_result",
          "data": {
            "text/plain": [
              "tensor([9, 0, 0,  ..., 3, 0, 5])"
            ]
          },
          "metadata": {},
          "execution_count": 8
        }
      ]
    },
    {
      "cell_type": "code",
      "source": [
        "import matplotlib.pyplot as plt"
      ],
      "metadata": {
        "id": "pMoS-CqYt5c5"
      },
      "execution_count": 9,
      "outputs": []
    },
    {
      "cell_type": "code",
      "source": [
        "plt.imshow(image.squeeze(),cmap=\"gray\")"
      ],
      "metadata": {
        "colab": {
          "base_uri": "https://localhost:8080/",
          "height": 447
        },
        "id": "--X_IkHdwzXJ",
        "outputId": "55de2f7d-3c55-4f42-e25a-0e7b8e8ee41e"
      },
      "execution_count": 10,
      "outputs": [
        {
          "output_type": "execute_result",
          "data": {
            "text/plain": [
              "<matplotlib.image.AxesImage at 0x78965e778eb0>"
            ]
          },
          "metadata": {},
          "execution_count": 10
        },
        {
          "output_type": "display_data",
          "data": {
            "text/plain": [
              "<Figure size 640x480 with 1 Axes>"
            ],
            "image/png": "[encoded data removed]"
          },
          "metadata": {}
        }
      ]
    },
    {
      "cell_type": "code",
      "source": [
        "# torch.manual_seed(42)\n",
        "fig = plt.figure(figsize=(9, 9))\n",
        "row, col = 4,4\n",
        "for i in range(1,row*col+1):\n",
        "  im_index = torch.randint(0,len(train_data),size=[1]).item()\n",
        "  im, la = train_data[im_index]\n",
        "  fig.add_subplot(row, col, i)\n",
        "  plt.imshow(im.squeeze(), cmap=\"gray\")\n",
        "  plt.title(classnames[la])\n",
        "  plt.axis(False);"
      ],
      "metadata": {
        "colab": {
          "base_uri": "https://localhost:8080/",
          "height": 752
        },
        "id": "GGNTAPBew3Xw",
        "outputId": "ae85a795-a305-4664-a8e1-86ddbe0d613d"
      },
      "execution_count": 11,
      "outputs": [
        {
          "output_type": "display_data",
          "data": {
            "text/plain": [
              "<Figure size 900x900 with 16 Axes>"
            ],
            "image/png": "[encoded data removed]"
          },
          "metadata": {}
        }
      ]
    },
    {
      "cell_type": "markdown",
      "source": [
        "### Loading data using DataLoader"
      ],
      "metadata": {
        "id": "FVtojwGJyD4Z"
      }
    },
    {
      "cell_type": "code",
      "source": [
        "from torch.utils.data import DataLoader\n",
        "BATCH_SIZE = 32\n",
        "\n",
        "train_dataloader = DataLoader(dataset=train_data,\n",
        "                              batch_size = BATCH_SIZE,\n",
        "                              shuffle=True)\n",
        "\n",
        "test_dataloader = DataLoader(dataset = test_data,\n",
        "                             batch_size = BATCH_SIZE,\n",
        "                             shuffle=False)\n",
        "len(train_dataloader), len(test_dataloader)"
      ],
      "metadata": {
        "id": "7m93Srjy7Hau",
        "colab": {
          "base_uri": "https://localhost:8080/"
        },
        "outputId": "859131b4-d5d6-45f1-c085-889d6b5986c5"
      },
      "execution_count": 21,
      "outputs": [
        {
          "output_type": "execute_result",
          "data": {
            "text/plain": [
              "313"
            ]
          },
          "metadata": {},
          "execution_count": 21
        }
      ]
    },
    {
      "cell_type": "code",
      "source": [
        "train_features_batch, train_labels_batch = next(iter(train_dataloader))\n",
        "train_features_batch.shape, train_labels_batch.shape"
      ],
      "metadata": {
        "colab": {
          "base_uri": "https://localhost:8080/"
        },
        "id": "siLIRcY9893F",
        "outputId": "14009c39-2220-40c4-9bbd-18eaab8bd311"
      },
      "execution_count": 13,
      "outputs": [
        {
          "output_type": "execute_result",
          "data": {
            "text/plain": [
              "(torch.Size([32, 1, 28, 28]), torch.Size([32]))"
            ]
          },
          "metadata": {},
          "execution_count": 13
        }
      ]
    },
    {
      "cell_type": "code",
      "source": [
        "flatten = nn.Flatten()\n",
        "flatten(train_features_batch[1]).shape"
      ],
      "metadata": {
        "colab": {
          "base_uri": "https://localhost:8080/"
        },
        "id": "n3nfaqV13rT-",
        "outputId": "385f43dd-66bb-4626-90ed-dbf6e9fdf448"
      },
      "execution_count": 14,
      "outputs": [
        {
          "output_type": "execute_result",
          "data": {
            "text/plain": [
              "torch.Size([1, 784])"
            ]
          },
          "metadata": {},
          "execution_count": 14
        }
      ]
    },
    {
      "cell_type": "markdown",
      "source": [
        "### Building baseline model (model_0)"
      ],
      "metadata": {
        "id": "8wAABPV29B_l"
      }
    },
    {
      "cell_type": "code",
      "source": [
        "class FashionMNISTModel0(nn.Module):\n",
        "  def __init__(self, input_size, output_size, hidden_units=10):\n",
        "    super().__init__()\n",
        "    self.layer_stack = nn.Sequential(\n",
        "        nn.Flatten(),\n",
        "        nn.Linear(in_features=input_size, out_features=hidden_units),\n",
        "        nn.Linear(in_features=hidden_units, out_features=output_size)\n",
        "    )\n",
        "\n",
        "  def forward(self, x):\n",
        "    return self.layer_stack(x)\n",
        "\n",
        "model0 = FashionMNISTModel0(input_size=784,\n",
        "                      output_size=len(train_data.classes)).to(\"cpu\")\n",
        "model0"
      ],
      "metadata": {
        "colab": {
          "base_uri": "https://localhost:8080/"
        },
        "id": "lQxderJU28u7",
        "outputId": "258549d0-3776-4785-b286-9cb182d948bd"
      },
      "execution_count": 15,
      "outputs": [
        {
          "output_type": "execute_result",
          "data": {
            "text/plain": [
              "FashionMNISTModel0(\n",
              "  (layer_stack): Sequential(\n",
              "    (0): Flatten(start_dim=1, end_dim=-1)\n",
              "    (1): Linear(in_features=784, out_features=10, bias=True)\n",
              "    (2): Linear(in_features=10, out_features=10, bias=True)\n",
              "  )\n",
              ")"
            ]
          },
          "metadata": {},
          "execution_count": 15
        }
      ]
    },
    {
      "cell_type": "code",
      "source": [
        "model0.state_dict()"
      ],
      "metadata": {
        "colab": {
          "base_uri": "https://localhost:8080/"
        },
        "id": "PePDrDgAm5Mx",
        "outputId": "d8fb15ce-639f-4159-9ec1-b107c9a6d5d8"
      },
      "execution_count": 16,
      "outputs": [
        {
          "output_type": "execute_result",
          "data": {
            "text/plain": [
              "OrderedDict([('layer_stack.1.weight',\n",
              "              tensor([[ 0.0312, -0.0329, -0.0136,  ..., -0.0346,  0.0268,  0.0176],\n",
              "                      [ 0.0096,  0.0298,  0.0174,  ..., -0.0104,  0.0105, -0.0213],\n",
              "                      [ 0.0142,  0.0321,  0.0274,  ...,  0.0096,  0.0261,  0.0232],\n",
              "                      ...,\n",
              "                      [ 0.0060, -0.0343, -0.0152,  ..., -0.0275,  0.0078,  0.0094],\n",
              "                      [ 0.0348, -0.0162, -0.0025,  ..., -0.0327, -0.0103, -0.0031],\n",
              "                      [-0.0270, -0.0102, -0.0003,  ...,  0.0036,  0.0137,  0.0267]])),\n",
              "             ('layer_stack.1.bias',\n",
              "              tensor([-0.0317, -0.0214, -0.0246,  0.0085, -0.0203, -0.0277,  0.0040, -0.0010,\n",
              "                      -0.0273,  0.0170])),\n",
              "             ('layer_stack.2.weight',\n",
              "              tensor([[-0.2981,  0.0483, -0.2304, -0.0616, -0.0724,  0.0567,  0.2400, -0.2256,\n",
              "                        0.2929, -0.2767],\n",
              "                      [-0.2349, -0.2317, -0.1057, -0.2142, -0.1477,  0.1040,  0.2238, -0.3155,\n",
              "                        0.1016,  0.3144],\n",
              "                      [ 0.1061, -0.1285, -0.3050,  0.0993, -0.2207, -0.2685,  0.2667,  0.1305,\n",
              "                       -0.2038,  0.1789],\n",
              "                      [ 0.2544,  0.1611,  0.3060, -0.3144, -0.2422, -0.1660, -0.2080, -0.1730,\n",
              "                       -0.2046, -0.2982],\n",
              "                      [-0.0348,  0.1936,  0.1052, -0.0801,  0.1400,  0.2107,  0.2781,  0.2142,\n",
              "                       -0.1395,  0.0999],\n",
              "                      [ 0.2036,  0.2958,  0.2675, -0.0458,  0.1477,  0.3049,  0.1577, -0.1883,\n",
              "                        0.1024, -0.2017],\n",
              "                      [-0.1599, -0.1226,  0.0139,  0.1236,  0.2355,  0.2313,  0.2230, -0.2170,\n",
              "                       -0.2716,  0.0316],\n",
              "                      [-0.2547,  0.2637,  0.1893, -0.1463,  0.1085,  0.2458, -0.0937,  0.0718,\n",
              "                       -0.1545, -0.2337],\n",
              "                      [-0.2355, -0.1129,  0.1914,  0.1090,  0.0821,  0.2683, -0.0669, -0.2418,\n",
              "                       -0.1410,  0.3072],\n",
              "                      [ 0.2927, -0.0812,  0.1017,  0.1262, -0.3004, -0.2352, -0.2533,  0.2494,\n",
              "                        0.1740, -0.1281]])),\n",
              "             ('layer_stack.2.bias',\n",
              "              tensor([-0.1985, -0.1499, -0.2202, -0.1532, -0.2266, -0.1451,  0.2297,  0.1059,\n",
              "                      -0.0640, -0.3020]))])"
            ]
          },
          "metadata": {},
          "execution_count": 16
        }
      ]
    },
    {
      "cell_type": "code",
      "source": [
        "# Setting loss function, optimizer and evaluation metrics\n",
        "loss_fn = nn.CrossEntropyLoss()\n",
        "optimizer = torch.optim.SGD(params=model0.parameters(),\n",
        "                            lr=0.01)\n",
        "\n",
        "def accuracy_fn(y_true, y_pred):\n",
        "  currect = torch.eq(y_true, y_pred).sum().item()\n",
        "  accuracy = (currect / len(y_pred)) * 100\n",
        "  return accuracy\n",
        "def calaculate_time(start_time,\n",
        "                    end_time,\n",
        "                    device=\"cpu\"):\n",
        "  total_time = end_time - start_time\n",
        "  print(f\"{total_time:.2f}s on {device}\")\n",
        "  return total_time"
      ],
      "metadata": {
        "id": "rKZ1pJE55eIx"
      },
      "execution_count": 26,
      "outputs": []
    },
    {
      "cell_type": "markdown",
      "source": [
        "### training and testing loop"
      ],
      "metadata": {
        "id": "s72nrxysmo1s"
      }
    },
    {
      "cell_type": "code",
      "source": [
        "from timeit import default_timer as timer\n",
        "from tqdm.auto import tqdm\n",
        "torch.manual_seed(42)\n",
        "torch.cuda.manual_seed(42)\n",
        "epochs = 3\n",
        "train_start_cpu = timer()\n",
        "for epoch in tqdm(range(epochs)):\n",
        "  print(f\"Epoch {epoch}\")\n",
        "  train_loss = 0\n",
        "  for batch, (X,y) in enumerate(train_dataloader):\n",
        "    # Training mode\n",
        "    model0.train()\n",
        "\n",
        "    # Forward pass\n",
        "    logits = model0(X)\n",
        "    y_pred = logits.argmax(dim=1)\n",
        "\n",
        "    # calculate loss\n",
        "    loss = loss_fn(logits, y)\n",
        "    train_loss += loss\n",
        "\n",
        "    # optimizer zero grad\n",
        "    optimizer.zero_grad()\n",
        "\n",
        "    # Backpropagation\n",
        "    loss.backward()\n",
        "\n",
        "    # updating  parameters\n",
        "    optimizer.step()\n",
        "\n",
        "    if batch % 400 == 0:\n",
        "      print(f\"Looked at {batch * len(X)}/{len(train_dataloader.dataset)}\")\n",
        "\n",
        "  train_loss /= len(train_dataloader)\n",
        "\n",
        "  # Testing\n",
        "  test_loss, test_acc = 0, 0\n",
        "  model0.eval()\n",
        "  with torch.inference_mode():\n",
        "    for X, y in test_dataloader:\n",
        "\n",
        "      # forward pass\n",
        "      test_logits = model0(X)\n",
        "      test_pred = test_logits.argmax(dim=1)\n",
        "\n",
        "      # Loss and accuracy\n",
        "      test_loss += loss_fn(test_logits, y)\n",
        "      test_acc += accuracy_fn(y_true=y,\n",
        "                         y_pred=test_pred)\n",
        "    test_loss /= len(test_dataloader)\n",
        "    test_acc /= len(test_dataloader)\n",
        "\n",
        "  print(f\"train_loss: {train_loss:.4f}, test_loss: {test_loss:.4f}, test_accuracy: {test_acc:.3f}%\")\n",
        "train_end_cpu = timer()\n",
        "training_time_cpu = calaculate_time(train_start_cpu, train_end_cpu, device= str(next(model0.parameters()).device))"
      ],
      "metadata": {
        "id": "vrEwpSOgmuEC",
        "colab": {
          "base_uri": "https://localhost:8080/",
          "height": 448,
          "referenced_widgets": [
            "1ac5ee3c94d548a08c3fe03e1d63576a",
            "529212f6d4b54e619f15b3258f5fdcae",
            "c52994c5dcb2469d81d09b1d1ebfc163",
            "6cc8eae7e40d4aeb90c75e37e17e0291",
            "7544c5ed649640e0987b699eaf808577",
            "8b54ebf7354243bb933cb673ed6bf136",
            "98daeabe25ac456d8494417732b2f033",
            "0e790f4c866b45b1b535efe7bd001ebb",
            "59ac2f72ef7d4cc7afdb4f329e4669ed",
            "a3b0cd2006f54a04af9084548279651a",
            "de2d4d650b8f426f853479239ec94721"
          ]
        },
        "outputId": "ab7be74e-e53d-4144-e380-756dacd1e92d"
      },
      "execution_count": 27,
      "outputs": [
        {
          "output_type": "display_data",
          "data": {
            "text/plain": [
              "  0%|          | 0/3 [00:00<?, ?it/s]"
            ],
            "application/vnd.jupyter.widget-view+json": {
              "version_major": 2,
              "version_minor": 0,
              "model_id": "1ac5ee3c94d548a08c3fe03e1d63576a"
            }
          },
          "metadata": {}
        },
        {
          "output_type": "stream",
          "name": "stdout",
          "text": [
            "Epoch 0\n",
            "Looked at 0/60000\n",
            "Looked at 12800/60000\n",
            "Looked at 25600/60000\n",
            "Looked at 38400/60000\n",
            "Looked at 51200/60000\n",
            "train_loss: 0.4791, test_loss: 0.4948, test_accuracy: 82.588%\n",
            "Epoch 1\n",
            "Looked at 0/60000\n",
            "Looked at 12800/60000\n",
            "Looked at 25600/60000\n",
            "Looked at 38400/60000\n",
            "Looked at 51200/60000\n",
            "train_loss: 0.4616, test_loss: 0.4835, test_accuracy: 82.927%\n",
            "Epoch 2\n",
            "Looked at 0/60000\n",
            "Looked at 12800/60000\n",
            "Looked at 25600/60000\n",
            "Looked at 38400/60000\n",
            "Looked at 51200/60000\n",
            "train_loss: 0.4491, test_loss: 0.4770, test_accuracy: 83.197%\n",
            "37.26s on cpu\n"
          ]
        },
        {
          "output_type": "execute_result",
          "data": {
            "text/plain": [
              "37.25712099800012"
            ]
          },
          "metadata": {},
          "execution_count": 27
        }
      ]
    },
    {
      "cell_type": "code",
      "source": [
        "def evaluate_model(model:torch.nn.Module,\n",
        "                   data_loader:torch.utils.data.DataLoader,\n",
        "                   loss_fn: torch.nn.Module,\n",
        "                   accuracy_fn):\n",
        "  test_loss, test_acc = 0, 0\n",
        "  model.eval()\n",
        "  with torch.inference_mode():\n",
        "    for X, y in data_loader:\n",
        "      test_logits = model(X)\n",
        "      test_loss += loss_fn(test_logits, y)\n",
        "      test_acc += accuracy_fn(y, test_logits.argmax(dim=1))\n",
        "    test_loss /= len(data_loader)\n",
        "    test_acc /= len(data_loader)\n",
        "\n",
        "  return {\"model\": model.__class__.__name__,\n",
        "          \"test_loss\": test_loss,\n",
        "          \"test_accuracy\": test_acc}"
      ],
      "metadata": {
        "id": "LDdPz8t6m19j"
      },
      "execution_count": 34,
      "outputs": []
    },
    {
      "cell_type": "code",
      "source": [
        "model0_result = evaluate_model(model=model0,\n",
        "                              data_loader=test_dataloader,\n",
        "                              loss_fn= loss_fn,\n",
        "                              accuracy_fn=accuracy_fn)\n",
        "model0_result"
      ],
      "metadata": {
        "colab": {
          "base_uri": "https://localhost:8080/"
        },
        "id": "-6FnfRrd9Zr9",
        "outputId": "77878768-970c-4bc8-8ba9-0e34c01f780c"
      },
      "execution_count": 36,
      "outputs": [
        {
          "output_type": "execute_result",
          "data": {
            "text/plain": [
              "{'model': 'FashionMNISTModel0',\n",
              " 'test_loss': tensor(0.4770),\n",
              " 'test_accuracy': 83.19688498402556}"
            ]
          },
          "metadata": {},
          "execution_count": 36
        }
      ]
    },
    {
      "cell_type": "code",
      "source": [
        "from pathlib import Path\n",
        "\n",
        "MODEL_DIR = Path(\"model\")\n",
        "MODEL_DIR.mkdir(parents=True,\n",
        "                exist_ok=True)\n",
        "MODEL_NAME = \"FashionMNISTClassificationV0.pth\"\n",
        "MODEL_PATH = MODEL_DIR / MODEL_NAME\n",
        "torch.save(obj = model0.state_dict(),f=MODEL_PATH)"
      ],
      "metadata": {
        "id": "nSTaEfJUCmuR"
      },
      "execution_count": 40,
      "outputs": []
    },
    {
      "cell_type": "code",
      "source": [],
      "metadata": {
        "id": "nYWl3aujD8Vp"
      },
      "execution_count": null,
      "outputs": []
    }
  ]
}